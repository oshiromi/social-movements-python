{
 "cells": [
  {
   "cell_type": "markdown",
   "metadata": {},
   "source": [
    "# Scientific Python\n",
    "## Central European University // Fall 2021\n",
    "\n",
    "## Final Project\n",
    "Instructor: Marton Posfai\n",
    "\n",
    "Student: Alessandra Oshiro\n"
   ]
  },
  {
   "cell_type": "markdown",
   "metadata": {},
   "source": [
    "## 1. Introduction"
   ]
  },
  {
   "cell_type": "markdown",
   "metadata": {},
   "source": [
    "## 2. Loading and cleaning the dataset\n",
    "\n"
   ]
  },
  {
   "cell_type": "code",
   "execution_count": 318,
   "metadata": {},
   "outputs": [],
   "source": [
    "import pandas as pd\n",
    "import numpy as np\n",
    "import datetime as datetime\n",
    "import matplotlib.pyplot as plt\n",
    "import seaborn as sns"
   ]
  },
  {
   "cell_type": "code",
   "execution_count": 319,
   "metadata": {},
   "outputs": [
    {
     "data": {
      "text/html": [
       "<div>\n",
       "<style scoped>\n",
       "    .dataframe tbody tr th:only-of-type {\n",
       "        vertical-align: middle;\n",
       "    }\n",
       "\n",
       "    .dataframe tbody tr th {\n",
       "        vertical-align: top;\n",
       "    }\n",
       "\n",
       "    .dataframe thead th {\n",
       "        text-align: right;\n",
       "    }\n",
       "</style>\n",
       "<table border=\"1\" class=\"dataframe\">\n",
       "  <thead>\n",
       "    <tr style=\"text-align: right;\">\n",
       "      <th></th>\n",
       "      <th>id</th>\n",
       "      <th>country</th>\n",
       "      <th>ccode</th>\n",
       "      <th>year</th>\n",
       "      <th>region</th>\n",
       "      <th>protest</th>\n",
       "      <th>protestnumber</th>\n",
       "      <th>startday</th>\n",
       "      <th>startmonth</th>\n",
       "      <th>startyear</th>\n",
       "      <th>...</th>\n",
       "      <th>protesterdemand4</th>\n",
       "      <th>stateresponse1</th>\n",
       "      <th>stateresponse2</th>\n",
       "      <th>stateresponse3</th>\n",
       "      <th>stateresponse4</th>\n",
       "      <th>stateresponse5</th>\n",
       "      <th>stateresponse6</th>\n",
       "      <th>stateresponse7</th>\n",
       "      <th>sources</th>\n",
       "      <th>notes</th>\n",
       "    </tr>\n",
       "  </thead>\n",
       "  <tbody>\n",
       "    <tr>\n",
       "      <th>0</th>\n",
       "      <td>201990001</td>\n",
       "      <td>Canada</td>\n",
       "      <td>20</td>\n",
       "      <td>1990</td>\n",
       "      <td>North America</td>\n",
       "      <td>1</td>\n",
       "      <td>1</td>\n",
       "      <td>15.0</td>\n",
       "      <td>1.0</td>\n",
       "      <td>1990.0</td>\n",
       "      <td>...</td>\n",
       "      <td>NaN</td>\n",
       "      <td>ignore</td>\n",
       "      <td>NaN</td>\n",
       "      <td>NaN</td>\n",
       "      <td>NaN</td>\n",
       "      <td>NaN</td>\n",
       "      <td>NaN</td>\n",
       "      <td>NaN</td>\n",
       "      <td>1. great canadian train journeys into history;...</td>\n",
       "      <td>canada s railway passenger system was finally ...</td>\n",
       "    </tr>\n",
       "    <tr>\n",
       "      <th>1</th>\n",
       "      <td>201990002</td>\n",
       "      <td>Canada</td>\n",
       "      <td>20</td>\n",
       "      <td>1990</td>\n",
       "      <td>North America</td>\n",
       "      <td>1</td>\n",
       "      <td>2</td>\n",
       "      <td>25.0</td>\n",
       "      <td>6.0</td>\n",
       "      <td>1990.0</td>\n",
       "      <td>...</td>\n",
       "      <td>NaN</td>\n",
       "      <td>ignore</td>\n",
       "      <td>NaN</td>\n",
       "      <td>NaN</td>\n",
       "      <td>NaN</td>\n",
       "      <td>NaN</td>\n",
       "      <td>NaN</td>\n",
       "      <td>NaN</td>\n",
       "      <td>1. autonomy s cry revived in quebec the new yo...</td>\n",
       "      <td>protestors were only identified as young peopl...</td>\n",
       "    </tr>\n",
       "    <tr>\n",
       "      <th>2</th>\n",
       "      <td>201990003</td>\n",
       "      <td>Canada</td>\n",
       "      <td>20</td>\n",
       "      <td>1990</td>\n",
       "      <td>North America</td>\n",
       "      <td>1</td>\n",
       "      <td>3</td>\n",
       "      <td>1.0</td>\n",
       "      <td>7.0</td>\n",
       "      <td>1990.0</td>\n",
       "      <td>...</td>\n",
       "      <td>NaN</td>\n",
       "      <td>ignore</td>\n",
       "      <td>NaN</td>\n",
       "      <td>NaN</td>\n",
       "      <td>NaN</td>\n",
       "      <td>NaN</td>\n",
       "      <td>NaN</td>\n",
       "      <td>NaN</td>\n",
       "      <td>1. quebec protest after queen calls for unity ...</td>\n",
       "      <td>the queen, after calling on canadians to remai...</td>\n",
       "    </tr>\n",
       "    <tr>\n",
       "      <th>3</th>\n",
       "      <td>201990004</td>\n",
       "      <td>Canada</td>\n",
       "      <td>20</td>\n",
       "      <td>1990</td>\n",
       "      <td>North America</td>\n",
       "      <td>1</td>\n",
       "      <td>4</td>\n",
       "      <td>12.0</td>\n",
       "      <td>7.0</td>\n",
       "      <td>1990.0</td>\n",
       "      <td>...</td>\n",
       "      <td>NaN</td>\n",
       "      <td>accomodation</td>\n",
       "      <td>NaN</td>\n",
       "      <td>NaN</td>\n",
       "      <td>NaN</td>\n",
       "      <td>NaN</td>\n",
       "      <td>NaN</td>\n",
       "      <td>NaN</td>\n",
       "      <td>1. indians gather as siege intensifies; armed ...</td>\n",
       "      <td>canada s federal government has agreed to acqu...</td>\n",
       "    </tr>\n",
       "    <tr>\n",
       "      <th>4</th>\n",
       "      <td>201990005</td>\n",
       "      <td>Canada</td>\n",
       "      <td>20</td>\n",
       "      <td>1990</td>\n",
       "      <td>North America</td>\n",
       "      <td>1</td>\n",
       "      <td>5</td>\n",
       "      <td>14.0</td>\n",
       "      <td>8.0</td>\n",
       "      <td>1990.0</td>\n",
       "      <td>...</td>\n",
       "      <td>NaN</td>\n",
       "      <td>crowd dispersal</td>\n",
       "      <td>arrests</td>\n",
       "      <td>accomodation</td>\n",
       "      <td>NaN</td>\n",
       "      <td>NaN</td>\n",
       "      <td>NaN</td>\n",
       "      <td>NaN</td>\n",
       "      <td>1. dozens hurt in mohawk blockade protest the ...</td>\n",
       "      <td>protests were directed against the state due t...</td>\n",
       "    </tr>\n",
       "  </tbody>\n",
       "</table>\n",
       "<p>5 rows × 31 columns</p>\n",
       "</div>"
      ],
      "text/plain": [
       "          id country  ccode  year         region  protest  protestnumber  \\\n",
       "0  201990001  Canada     20  1990  North America        1              1   \n",
       "1  201990002  Canada     20  1990  North America        1              2   \n",
       "2  201990003  Canada     20  1990  North America        1              3   \n",
       "3  201990004  Canada     20  1990  North America        1              4   \n",
       "4  201990005  Canada     20  1990  North America        1              5   \n",
       "\n",
       "   startday  startmonth  startyear  ...  protesterdemand4   stateresponse1  \\\n",
       "0      15.0         1.0     1990.0  ...               NaN           ignore   \n",
       "1      25.0         6.0     1990.0  ...               NaN           ignore   \n",
       "2       1.0         7.0     1990.0  ...               NaN           ignore   \n",
       "3      12.0         7.0     1990.0  ...               NaN     accomodation   \n",
       "4      14.0         8.0     1990.0  ...               NaN  crowd dispersal   \n",
       "\n",
       "   stateresponse2  stateresponse3 stateresponse4 stateresponse5  \\\n",
       "0             NaN             NaN            NaN            NaN   \n",
       "1             NaN             NaN            NaN            NaN   \n",
       "2             NaN             NaN            NaN            NaN   \n",
       "3             NaN             NaN            NaN            NaN   \n",
       "4         arrests    accomodation            NaN            NaN   \n",
       "\n",
       "  stateresponse6 stateresponse7  \\\n",
       "0            NaN            NaN   \n",
       "1            NaN            NaN   \n",
       "2            NaN            NaN   \n",
       "3            NaN            NaN   \n",
       "4            NaN            NaN   \n",
       "\n",
       "                                             sources  \\\n",
       "0  1. great canadian train journeys into history;...   \n",
       "1  1. autonomy s cry revived in quebec the new yo...   \n",
       "2  1. quebec protest after queen calls for unity ...   \n",
       "3  1. indians gather as siege intensifies; armed ...   \n",
       "4  1. dozens hurt in mohawk blockade protest the ...   \n",
       "\n",
       "                                               notes  \n",
       "0  canada s railway passenger system was finally ...  \n",
       "1  protestors were only identified as young peopl...  \n",
       "2  the queen, after calling on canadians to remai...  \n",
       "3  canada s federal government has agreed to acqu...  \n",
       "4  protests were directed against the state due t...  \n",
       "\n",
       "[5 rows x 31 columns]"
      ]
     },
     "execution_count": 319,
     "metadata": {},
     "output_type": "execute_result"
    }
   ],
   "source": [
    "social_movements_df = pd.read_csv(\"social_movements.csv\")\n",
    "social_movements_df.head(5)"
   ]
  },
  {
   "cell_type": "code",
   "execution_count": 320,
   "metadata": {},
   "outputs": [
    {
     "name": "stdout",
     "output_type": "stream",
     "text": [
      "<class 'pandas.core.frame.DataFrame'>\n",
      "RangeIndex: 17145 entries, 0 to 17144\n",
      "Data columns (total 31 columns):\n",
      " #   Column                 Non-Null Count  Dtype  \n",
      "---  ------                 --------------  -----  \n",
      " 0   id                     17145 non-null  int64  \n",
      " 1   country                17145 non-null  object \n",
      " 2   ccode                  17145 non-null  int64  \n",
      " 3   year                   17145 non-null  int64  \n",
      " 4   region                 17145 non-null  object \n",
      " 5   protest                17145 non-null  int64  \n",
      " 6   protestnumber          17145 non-null  int64  \n",
      " 7   startday               15239 non-null  float64\n",
      " 8   startmonth             15239 non-null  float64\n",
      " 9   startyear              15239 non-null  float64\n",
      " 10  endday                 15239 non-null  float64\n",
      " 11  endmonth               15239 non-null  float64\n",
      " 12  endyear                15239 non-null  float64\n",
      " 13  protesterviolence      15758 non-null  float64\n",
      " 14  location               15218 non-null  object \n",
      " 15  participants_category  9887 non-null   object \n",
      " 16  participants           15746 non-null  object \n",
      " 17  protesteridentity      14684 non-null  object \n",
      " 18  protesterdemand1       15238 non-null  object \n",
      " 19  protesterdemand2       2977 non-null   object \n",
      " 20  protesterdemand3       383 non-null    object \n",
      " 21  protesterdemand4       831 non-null    object \n",
      " 22  stateresponse1         15208 non-null  object \n",
      " 23  stateresponse2         2888 non-null   object \n",
      " 24  stateresponse3         930 non-null    object \n",
      " 25  stateresponse4         244 non-null    object \n",
      " 26  stateresponse5         849 non-null    object \n",
      " 27  stateresponse6         16 non-null     object \n",
      " 28  stateresponse7         920 non-null    object \n",
      " 29  sources                15235 non-null  object \n",
      " 30  notes                  15193 non-null  object \n",
      "dtypes: float64(7), int64(5), object(19)\n",
      "memory usage: 4.1+ MB\n"
     ]
    }
   ],
   "source": [
    "social_movements_df.info()"
   ]
  },
  {
   "cell_type": "markdown",
   "metadata": {},
   "source": [
    "This initial summary shows that there are some NaN values in our datset. Moreover, by the name and description of the variables, it is possible to tell that some of the data will not be relevant for the analysis. Therefore, it is now turn to clean the data and drop the columns that will not be needed. First, I will drop the columns that do not provide relevant information, then I will drop those who have a high proportion of NaNs. "
   ]
  },
  {
   "cell_type": "code",
   "execution_count": 321,
   "metadata": {},
   "outputs": [],
   "source": [
    "social_movements_df.drop([\"id\", \"ccode\", \"protesteridentity\", \"participants_category\", \"location\", \"sources\", \"notes\"], axis = 1, inplace = True)"
   ]
  },
  {
   "cell_type": "code",
   "execution_count": 322,
   "metadata": {},
   "outputs": [
    {
     "name": "stdout",
     "output_type": "stream",
     "text": [
      "country              0.000000\n",
      "year                 0.000000\n",
      "region               0.000000\n",
      "protest              0.000000\n",
      "protestnumber        0.000000\n",
      "startday             0.111169\n",
      "startmonth           0.111169\n",
      "startyear            0.111169\n",
      "endday               0.111169\n",
      "endmonth             0.111169\n",
      "endyear              0.111169\n",
      "protesterviolence    0.080898\n",
      "participants         0.081598\n",
      "protesterdemand1     0.111228\n",
      "protesterdemand2     0.826363\n",
      "protesterdemand3     0.977661\n",
      "protesterdemand4     0.951531\n",
      "stateresponse1       0.112978\n",
      "stateresponse2       0.831554\n",
      "stateresponse3       0.945757\n",
      "stateresponse4       0.985768\n",
      "stateresponse5       0.950481\n",
      "stateresponse6       0.999067\n",
      "stateresponse7       0.946340\n",
      "dtype: float64\n"
     ]
    }
   ],
   "source": [
    "column_na_proportion = social_movements_df.isna().sum()/len(social_movements_df)\n",
    "print(column_na_proportion)"
   ]
  },
  {
   "cell_type": "code",
   "execution_count": 323,
   "metadata": {},
   "outputs": [],
   "source": [
    "social_movements_df.dropna(subset = [\"stateresponse1\", \"protesterdemand1\"], inplace = True)"
   ]
  },
  {
   "cell_type": "code",
   "execution_count": 324,
   "metadata": {},
   "outputs": [
    {
     "name": "stdout",
     "output_type": "stream",
     "text": [
      "country              0.000000\n",
      "year                 0.000000\n",
      "region               0.000000\n",
      "protest              0.000000\n",
      "protestnumber        0.000000\n",
      "startday             0.000000\n",
      "startmonth           0.000000\n",
      "startyear            0.000000\n",
      "endday               0.000000\n",
      "endmonth             0.000000\n",
      "endyear              0.000000\n",
      "protesterviolence    0.000000\n",
      "participants         0.000789\n",
      "protesterdemand1     0.000000\n",
      "protesterdemand2     0.804971\n",
      "protesterdemand3     0.974882\n",
      "protesterdemand4     0.948777\n",
      "stateresponse1       0.000000\n",
      "stateresponse2       0.810231\n",
      "stateresponse3       0.938848\n",
      "stateresponse4       0.983956\n",
      "stateresponse5       0.947593\n",
      "stateresponse6       0.998948\n",
      "stateresponse7       0.943648\n",
      "dtype: float64\n"
     ]
    }
   ],
   "source": [
    "column_na_proportion = social_movements_df.isna().sum()/len(social_movements_df)\n",
    "print(column_na_proportion)"
   ]
  },
  {
   "cell_type": "markdown",
   "metadata": {},
   "source": [
    "In the previous cell, I have calculated the proportion of NaNs per column. As we can see, there are several columns that have a proportion of NaNs of almost 1. The cases in which this is more evident, is the variables for protesters demands and those for state response. This is because, for some mobilizations, protesters have had different demands and states have answered in different ways as the conflict progressed. Given that eliminating straight away those variables would not give us accurate information about the state response, I have decided to recode \"stateresponse1\" to \"stateresponse7\" as a single variable that indicates whether the response was pacific (accomodation or agreement) or used force (arrests, dispersion, shootings, killings)."
   ]
  },
  {
   "cell_type": "code",
   "execution_count": 325,
   "metadata": {},
   "outputs": [],
   "source": [
    "social_movements_df = social_movements_df[social_movements_df[\"stateresponse2\"].isna()]\n",
    "social_movements_df = social_movements_df[social_movements_df[\"protesterdemand2\"].isna()]"
   ]
  },
  {
   "cell_type": "code",
   "execution_count": 326,
   "metadata": {},
   "outputs": [],
   "source": [
    "social_movements_df.drop(\n",
    "    [\"protesterdemand2\", \"protesterdemand3\", \"protesterdemand4\", \n",
    "    \"stateresponse2\", \"stateresponse3\", \"stateresponse4\", \n",
    "    \"stateresponse5\", \"stateresponse6\", \"stateresponse7\"], axis = 1, inplace=True)\n",
    "\n",
    "social_movements_df = social_movements_df.dropna()"
   ]
  },
  {
   "cell_type": "markdown",
   "metadata": {},
   "source": [
    "Now, I recode some variables so that they are adequate for the binary classification. First, the variable for protester demands (\"protesterdemand1\") is coded \"economical\" for economical demands (labor wage dispute, land farm issue, and price increases/tax policy) and \"political\" for political demands (police brutality, removal of politician, political behavior or processes, and social restrictions). This information is stored as the \"demand_type\" variable in the dataframe. \n",
    "\n",
    "The same procedure was done with the variable for state response (\"stateresponse1\"). In this case, the new variable indicates whether the state made use of force in its response to the mass mobilization. Therefore, it is coded 0 for pacific responses (ignore, or accomodation) and 1 for forceful responses (dispersion, arrest, shooting, and killing). This data is stired as the \"response_use_force\" variable in the dataframe."
   ]
  },
  {
   "cell_type": "code",
   "execution_count": 327,
   "metadata": {},
   "outputs": [
    {
     "data": {
      "text/html": [
       "<div>\n",
       "<style scoped>\n",
       "    .dataframe tbody tr th:only-of-type {\n",
       "        vertical-align: middle;\n",
       "    }\n",
       "\n",
       "    .dataframe tbody tr th {\n",
       "        vertical-align: top;\n",
       "    }\n",
       "\n",
       "    .dataframe thead th {\n",
       "        text-align: right;\n",
       "    }\n",
       "</style>\n",
       "<table border=\"1\" class=\"dataframe\">\n",
       "  <thead>\n",
       "    <tr style=\"text-align: right;\">\n",
       "      <th></th>\n",
       "      <th>country</th>\n",
       "      <th>year</th>\n",
       "      <th>region</th>\n",
       "      <th>protest</th>\n",
       "      <th>protestnumber</th>\n",
       "      <th>startday</th>\n",
       "      <th>startmonth</th>\n",
       "      <th>startyear</th>\n",
       "      <th>endday</th>\n",
       "      <th>endmonth</th>\n",
       "      <th>endyear</th>\n",
       "      <th>protesterviolence</th>\n",
       "      <th>participants</th>\n",
       "      <th>protesterdemand1</th>\n",
       "      <th>stateresponse1</th>\n",
       "      <th>demand_type</th>\n",
       "      <th>response_use_force</th>\n",
       "    </tr>\n",
       "  </thead>\n",
       "  <tbody>\n",
       "    <tr>\n",
       "      <th>1</th>\n",
       "      <td>Canada</td>\n",
       "      <td>1990</td>\n",
       "      <td>North America</td>\n",
       "      <td>1</td>\n",
       "      <td>2</td>\n",
       "      <td>25.0</td>\n",
       "      <td>6.0</td>\n",
       "      <td>1990.0</td>\n",
       "      <td>25.0</td>\n",
       "      <td>6.0</td>\n",
       "      <td>1990.0</td>\n",
       "      <td>0.0</td>\n",
       "      <td>1000</td>\n",
       "      <td>political behavior, process</td>\n",
       "      <td>ignore</td>\n",
       "      <td>political</td>\n",
       "      <td>0</td>\n",
       "    </tr>\n",
       "    <tr>\n",
       "      <th>2</th>\n",
       "      <td>Canada</td>\n",
       "      <td>1990</td>\n",
       "      <td>North America</td>\n",
       "      <td>1</td>\n",
       "      <td>3</td>\n",
       "      <td>1.0</td>\n",
       "      <td>7.0</td>\n",
       "      <td>1990.0</td>\n",
       "      <td>1.0</td>\n",
       "      <td>7.0</td>\n",
       "      <td>1990.0</td>\n",
       "      <td>0.0</td>\n",
       "      <td>500</td>\n",
       "      <td>political behavior, process</td>\n",
       "      <td>ignore</td>\n",
       "      <td>political</td>\n",
       "      <td>0</td>\n",
       "    </tr>\n",
       "    <tr>\n",
       "      <th>3</th>\n",
       "      <td>Canada</td>\n",
       "      <td>1990</td>\n",
       "      <td>North America</td>\n",
       "      <td>1</td>\n",
       "      <td>4</td>\n",
       "      <td>12.0</td>\n",
       "      <td>7.0</td>\n",
       "      <td>1990.0</td>\n",
       "      <td>6.0</td>\n",
       "      <td>9.0</td>\n",
       "      <td>1990.0</td>\n",
       "      <td>1.0</td>\n",
       "      <td>100s</td>\n",
       "      <td>land farm issue</td>\n",
       "      <td>accomodation</td>\n",
       "      <td>economical</td>\n",
       "      <td>0</td>\n",
       "    </tr>\n",
       "    <tr>\n",
       "      <th>6</th>\n",
       "      <td>Canada</td>\n",
       "      <td>1991</td>\n",
       "      <td>North America</td>\n",
       "      <td>1</td>\n",
       "      <td>1</td>\n",
       "      <td>10.0</td>\n",
       "      <td>9.0</td>\n",
       "      <td>1991.0</td>\n",
       "      <td>17.0</td>\n",
       "      <td>9.0</td>\n",
       "      <td>1991.0</td>\n",
       "      <td>0.0</td>\n",
       "      <td>110000</td>\n",
       "      <td>labor wage dispute</td>\n",
       "      <td>ignore</td>\n",
       "      <td>economical</td>\n",
       "      <td>0</td>\n",
       "    </tr>\n",
       "    <tr>\n",
       "      <th>7</th>\n",
       "      <td>Canada</td>\n",
       "      <td>1991</td>\n",
       "      <td>North America</td>\n",
       "      <td>1</td>\n",
       "      <td>2</td>\n",
       "      <td>28.0</td>\n",
       "      <td>9.0</td>\n",
       "      <td>1991.0</td>\n",
       "      <td>2.0</td>\n",
       "      <td>10.0</td>\n",
       "      <td>1991.0</td>\n",
       "      <td>0.0</td>\n",
       "      <td>110000</td>\n",
       "      <td>labor wage dispute</td>\n",
       "      <td>ignore</td>\n",
       "      <td>economical</td>\n",
       "      <td>0</td>\n",
       "    </tr>\n",
       "  </tbody>\n",
       "</table>\n",
       "</div>"
      ],
      "text/plain": [
       "  country  year         region  protest  protestnumber  startday  startmonth  \\\n",
       "1  Canada  1990  North America        1              2      25.0         6.0   \n",
       "2  Canada  1990  North America        1              3       1.0         7.0   \n",
       "3  Canada  1990  North America        1              4      12.0         7.0   \n",
       "6  Canada  1991  North America        1              1      10.0         9.0   \n",
       "7  Canada  1991  North America        1              2      28.0         9.0   \n",
       "\n",
       "   startyear  endday  endmonth  endyear  protesterviolence participants  \\\n",
       "1     1990.0    25.0       6.0   1990.0                0.0         1000   \n",
       "2     1990.0     1.0       7.0   1990.0                0.0          500   \n",
       "3     1990.0     6.0       9.0   1990.0                1.0         100s   \n",
       "6     1991.0    17.0       9.0   1991.0                0.0       110000   \n",
       "7     1991.0     2.0      10.0   1991.0                0.0       110000   \n",
       "\n",
       "              protesterdemand1 stateresponse1 demand_type  response_use_force  \n",
       "1  political behavior, process         ignore   political                   0  \n",
       "2  political behavior, process         ignore   political                   0  \n",
       "3              land farm issue   accomodation  economical                   0  \n",
       "6           labor wage dispute         ignore  economical                   0  \n",
       "7           labor wage dispute         ignore  economical                   0  "
      ]
     },
     "execution_count": 327,
     "metadata": {},
     "output_type": "execute_result"
    }
   ],
   "source": [
    "demands_mask = social_movements_df[\"protesterdemand1\"].isin([\"labor wage dispute\", \"land farm issue\", \"price increases, tax policy\"])\n",
    "social_movements_df[\"demand_type\"] = np.where(demands_mask, \"economical\", \"political\")\n",
    "\n",
    "response_mask = social_movements_df[\"stateresponse1\"].isin([\"ignore\", \"accomodation\"])\n",
    "social_movements_df[\"response_use_force\"] = np.where(response_mask, 0, 1)\n",
    "\n",
    "social_movements_df.head()"
   ]
  },
  {
   "cell_type": "markdown",
   "metadata": {},
   "source": [
    "Now, the dates. I have converted them to a single datetime object so that it is easier to calculate other useful data such as the duration of each mobilization. I stared with the start dates and continued with the end dates. After that, I calculated the duration and added it as a new variable in the dataset. "
   ]
  },
  {
   "cell_type": "code",
   "execution_count": 328,
   "metadata": {},
   "outputs": [
    {
     "data": {
      "text/html": [
       "<div>\n",
       "<style scoped>\n",
       "    .dataframe tbody tr th:only-of-type {\n",
       "        vertical-align: middle;\n",
       "    }\n",
       "\n",
       "    .dataframe tbody tr th {\n",
       "        vertical-align: top;\n",
       "    }\n",
       "\n",
       "    .dataframe thead th {\n",
       "        text-align: right;\n",
       "    }\n",
       "</style>\n",
       "<table border=\"1\" class=\"dataframe\">\n",
       "  <thead>\n",
       "    <tr style=\"text-align: right;\">\n",
       "      <th></th>\n",
       "      <th>country</th>\n",
       "      <th>year</th>\n",
       "      <th>region</th>\n",
       "      <th>protest</th>\n",
       "      <th>protestnumber</th>\n",
       "      <th>startday</th>\n",
       "      <th>startmonth</th>\n",
       "      <th>startyear</th>\n",
       "      <th>endday</th>\n",
       "      <th>endmonth</th>\n",
       "      <th>endyear</th>\n",
       "      <th>protesterviolence</th>\n",
       "      <th>participants</th>\n",
       "      <th>protesterdemand1</th>\n",
       "      <th>stateresponse1</th>\n",
       "      <th>demand_type</th>\n",
       "      <th>response_use_force</th>\n",
       "      <th>start_date</th>\n",
       "      <th>end_date</th>\n",
       "    </tr>\n",
       "  </thead>\n",
       "  <tbody>\n",
       "    <tr>\n",
       "      <th>1</th>\n",
       "      <td>Canada</td>\n",
       "      <td>1990</td>\n",
       "      <td>North America</td>\n",
       "      <td>1</td>\n",
       "      <td>2</td>\n",
       "      <td>25.0</td>\n",
       "      <td>6.0</td>\n",
       "      <td>1990.0</td>\n",
       "      <td>25.0</td>\n",
       "      <td>6.0</td>\n",
       "      <td>1990.0</td>\n",
       "      <td>0.0</td>\n",
       "      <td>1000</td>\n",
       "      <td>political behavior, process</td>\n",
       "      <td>ignore</td>\n",
       "      <td>political</td>\n",
       "      <td>0</td>\n",
       "      <td>1990-06-25</td>\n",
       "      <td>1990-06-25</td>\n",
       "    </tr>\n",
       "    <tr>\n",
       "      <th>2</th>\n",
       "      <td>Canada</td>\n",
       "      <td>1990</td>\n",
       "      <td>North America</td>\n",
       "      <td>1</td>\n",
       "      <td>3</td>\n",
       "      <td>1.0</td>\n",
       "      <td>7.0</td>\n",
       "      <td>1990.0</td>\n",
       "      <td>1.0</td>\n",
       "      <td>7.0</td>\n",
       "      <td>1990.0</td>\n",
       "      <td>0.0</td>\n",
       "      <td>500</td>\n",
       "      <td>political behavior, process</td>\n",
       "      <td>ignore</td>\n",
       "      <td>political</td>\n",
       "      <td>0</td>\n",
       "      <td>1990-07-01</td>\n",
       "      <td>1990-07-01</td>\n",
       "    </tr>\n",
       "    <tr>\n",
       "      <th>3</th>\n",
       "      <td>Canada</td>\n",
       "      <td>1990</td>\n",
       "      <td>North America</td>\n",
       "      <td>1</td>\n",
       "      <td>4</td>\n",
       "      <td>12.0</td>\n",
       "      <td>7.0</td>\n",
       "      <td>1990.0</td>\n",
       "      <td>6.0</td>\n",
       "      <td>9.0</td>\n",
       "      <td>1990.0</td>\n",
       "      <td>1.0</td>\n",
       "      <td>100s</td>\n",
       "      <td>land farm issue</td>\n",
       "      <td>accomodation</td>\n",
       "      <td>economical</td>\n",
       "      <td>0</td>\n",
       "      <td>1990-07-12</td>\n",
       "      <td>1990-09-06</td>\n",
       "    </tr>\n",
       "    <tr>\n",
       "      <th>6</th>\n",
       "      <td>Canada</td>\n",
       "      <td>1991</td>\n",
       "      <td>North America</td>\n",
       "      <td>1</td>\n",
       "      <td>1</td>\n",
       "      <td>10.0</td>\n",
       "      <td>9.0</td>\n",
       "      <td>1991.0</td>\n",
       "      <td>17.0</td>\n",
       "      <td>9.0</td>\n",
       "      <td>1991.0</td>\n",
       "      <td>0.0</td>\n",
       "      <td>110000</td>\n",
       "      <td>labor wage dispute</td>\n",
       "      <td>ignore</td>\n",
       "      <td>economical</td>\n",
       "      <td>0</td>\n",
       "      <td>1991-09-10</td>\n",
       "      <td>1991-09-17</td>\n",
       "    </tr>\n",
       "    <tr>\n",
       "      <th>7</th>\n",
       "      <td>Canada</td>\n",
       "      <td>1991</td>\n",
       "      <td>North America</td>\n",
       "      <td>1</td>\n",
       "      <td>2</td>\n",
       "      <td>28.0</td>\n",
       "      <td>9.0</td>\n",
       "      <td>1991.0</td>\n",
       "      <td>2.0</td>\n",
       "      <td>10.0</td>\n",
       "      <td>1991.0</td>\n",
       "      <td>0.0</td>\n",
       "      <td>110000</td>\n",
       "      <td>labor wage dispute</td>\n",
       "      <td>ignore</td>\n",
       "      <td>economical</td>\n",
       "      <td>0</td>\n",
       "      <td>1991-09-28</td>\n",
       "      <td>1991-10-02</td>\n",
       "    </tr>\n",
       "  </tbody>\n",
       "</table>\n",
       "</div>"
      ],
      "text/plain": [
       "  country  year         region  protest  protestnumber  startday  startmonth  \\\n",
       "1  Canada  1990  North America        1              2      25.0         6.0   \n",
       "2  Canada  1990  North America        1              3       1.0         7.0   \n",
       "3  Canada  1990  North America        1              4      12.0         7.0   \n",
       "6  Canada  1991  North America        1              1      10.0         9.0   \n",
       "7  Canada  1991  North America        1              2      28.0         9.0   \n",
       "\n",
       "   startyear  endday  endmonth  endyear  protesterviolence participants  \\\n",
       "1     1990.0    25.0       6.0   1990.0                0.0         1000   \n",
       "2     1990.0     1.0       7.0   1990.0                0.0          500   \n",
       "3     1990.0     6.0       9.0   1990.0                1.0         100s   \n",
       "6     1991.0    17.0       9.0   1991.0                0.0       110000   \n",
       "7     1991.0     2.0      10.0   1991.0                0.0       110000   \n",
       "\n",
       "              protesterdemand1 stateresponse1 demand_type  response_use_force  \\\n",
       "1  political behavior, process         ignore   political                   0   \n",
       "2  political behavior, process         ignore   political                   0   \n",
       "3              land farm issue   accomodation  economical                   0   \n",
       "6           labor wage dispute         ignore  economical                   0   \n",
       "7           labor wage dispute         ignore  economical                   0   \n",
       "\n",
       "  start_date   end_date  \n",
       "1 1990-06-25 1990-06-25  \n",
       "2 1990-07-01 1990-07-01  \n",
       "3 1990-07-12 1990-09-06  \n",
       "6 1991-09-10 1991-09-17  \n",
       "7 1991-09-28 1991-10-02  "
      ]
     },
     "execution_count": 328,
     "metadata": {},
     "output_type": "execute_result"
    }
   ],
   "source": [
    "social_movements_startdate = social_movements_df[[\"startday\", \"startmonth\", \"startyear\"]].astype(int).copy()\n",
    "social_movements_startdate.columns = [\"day\", \"month\", \"year\"]\n",
    "social_movements_df[\"start_date\"] = pd.to_datetime(social_movements_startdate)\n",
    "\n",
    "social_movements_enddate = social_movements_df[[\"endday\", \"endmonth\", \"endyear\"]].astype(int).copy()\n",
    "social_movements_enddate.columns = [\"day\", \"month\", \"year\"]\n",
    "social_movements_df[\"end_date\"] = pd.to_datetime(social_movements_enddate)\n",
    "\n",
    "social_movements_df.head()\n"
   ]
  },
  {
   "cell_type": "code",
   "execution_count": 329,
   "metadata": {},
   "outputs": [],
   "source": [
    "social_movements_df = social_movements_df.reset_index(drop=True)\n",
    "movement_duration = [(social_movements_df[\"end_date\"][i] - social_movements_df[\"start_date\"][i]).days for i in range(len(social_movements_df))]\n",
    "social_movements_df[\"movement_duration\"] = movement_duration\n",
    "\n"
   ]
  },
  {
   "cell_type": "code",
   "execution_count": 330,
   "metadata": {},
   "outputs": [],
   "source": [
    "social_movements_df = social_movements_df[[\"country\", \"year\", \"region\", \"start_date\", \"end_date\", \"movement_duration\",\"protest\", \"protestnumber\", \"protesterviolence\", \"participants\", \"protesterdemand1\", \"demand_type\", \"stateresponse1\", \"response_use_force\"]]\n",
    "social_movements_df.columns = [\"country\", \"year\", \"region\", \"start_date\", \"end_date\", \"movement_duration\", \"protest\", \"protest_number\", \"protester_violence\", \"participants\", \"protester_demand\", \"demand_type\", \"state_response\", \"response_use_force\"]"
   ]
  },
  {
   "cell_type": "code",
   "execution_count": 331,
   "metadata": {},
   "outputs": [
    {
     "data": {
      "text/html": [
       "<div>\n",
       "<style scoped>\n",
       "    .dataframe tbody tr th:only-of-type {\n",
       "        vertical-align: middle;\n",
       "    }\n",
       "\n",
       "    .dataframe tbody tr th {\n",
       "        vertical-align: top;\n",
       "    }\n",
       "\n",
       "    .dataframe thead th {\n",
       "        text-align: right;\n",
       "    }\n",
       "</style>\n",
       "<table border=\"1\" class=\"dataframe\">\n",
       "  <thead>\n",
       "    <tr style=\"text-align: right;\">\n",
       "      <th></th>\n",
       "      <th>country</th>\n",
       "      <th>year</th>\n",
       "      <th>region</th>\n",
       "      <th>start_date</th>\n",
       "      <th>end_date</th>\n",
       "      <th>movement_duration</th>\n",
       "      <th>protest</th>\n",
       "      <th>protest_number</th>\n",
       "      <th>protester_violence</th>\n",
       "      <th>participants</th>\n",
       "      <th>protester_demand</th>\n",
       "      <th>demand_type</th>\n",
       "      <th>state_response</th>\n",
       "      <th>response_use_force</th>\n",
       "    </tr>\n",
       "  </thead>\n",
       "  <tbody>\n",
       "    <tr>\n",
       "      <th>0</th>\n",
       "      <td>Canada</td>\n",
       "      <td>1990</td>\n",
       "      <td>North America</td>\n",
       "      <td>1990-06-25</td>\n",
       "      <td>1990-06-25</td>\n",
       "      <td>0</td>\n",
       "      <td>1</td>\n",
       "      <td>2</td>\n",
       "      <td>0.0</td>\n",
       "      <td>1000</td>\n",
       "      <td>political behavior, process</td>\n",
       "      <td>political</td>\n",
       "      <td>ignore</td>\n",
       "      <td>0</td>\n",
       "    </tr>\n",
       "    <tr>\n",
       "      <th>1</th>\n",
       "      <td>Canada</td>\n",
       "      <td>1990</td>\n",
       "      <td>North America</td>\n",
       "      <td>1990-07-01</td>\n",
       "      <td>1990-07-01</td>\n",
       "      <td>0</td>\n",
       "      <td>1</td>\n",
       "      <td>3</td>\n",
       "      <td>0.0</td>\n",
       "      <td>500</td>\n",
       "      <td>political behavior, process</td>\n",
       "      <td>political</td>\n",
       "      <td>ignore</td>\n",
       "      <td>0</td>\n",
       "    </tr>\n",
       "    <tr>\n",
       "      <th>2</th>\n",
       "      <td>Canada</td>\n",
       "      <td>1990</td>\n",
       "      <td>North America</td>\n",
       "      <td>1990-07-12</td>\n",
       "      <td>1990-09-06</td>\n",
       "      <td>56</td>\n",
       "      <td>1</td>\n",
       "      <td>4</td>\n",
       "      <td>1.0</td>\n",
       "      <td>100s</td>\n",
       "      <td>land farm issue</td>\n",
       "      <td>economical</td>\n",
       "      <td>accomodation</td>\n",
       "      <td>0</td>\n",
       "    </tr>\n",
       "    <tr>\n",
       "      <th>3</th>\n",
       "      <td>Canada</td>\n",
       "      <td>1991</td>\n",
       "      <td>North America</td>\n",
       "      <td>1991-09-10</td>\n",
       "      <td>1991-09-17</td>\n",
       "      <td>7</td>\n",
       "      <td>1</td>\n",
       "      <td>1</td>\n",
       "      <td>0.0</td>\n",
       "      <td>110000</td>\n",
       "      <td>labor wage dispute</td>\n",
       "      <td>economical</td>\n",
       "      <td>ignore</td>\n",
       "      <td>0</td>\n",
       "    </tr>\n",
       "    <tr>\n",
       "      <th>4</th>\n",
       "      <td>Canada</td>\n",
       "      <td>1991</td>\n",
       "      <td>North America</td>\n",
       "      <td>1991-09-28</td>\n",
       "      <td>1991-10-02</td>\n",
       "      <td>4</td>\n",
       "      <td>1</td>\n",
       "      <td>2</td>\n",
       "      <td>0.0</td>\n",
       "      <td>110000</td>\n",
       "      <td>labor wage dispute</td>\n",
       "      <td>economical</td>\n",
       "      <td>ignore</td>\n",
       "      <td>0</td>\n",
       "    </tr>\n",
       "    <tr>\n",
       "      <th>5</th>\n",
       "      <td>Canada</td>\n",
       "      <td>1992</td>\n",
       "      <td>North America</td>\n",
       "      <td>1992-05-04</td>\n",
       "      <td>1992-05-05</td>\n",
       "      <td>1</td>\n",
       "      <td>1</td>\n",
       "      <td>1</td>\n",
       "      <td>1.0</td>\n",
       "      <td>1000</td>\n",
       "      <td>police brutality</td>\n",
       "      <td>political</td>\n",
       "      <td>arrests</td>\n",
       "      <td>1</td>\n",
       "    </tr>\n",
       "    <tr>\n",
       "      <th>6</th>\n",
       "      <td>Canada</td>\n",
       "      <td>1993</td>\n",
       "      <td>North America</td>\n",
       "      <td>1993-05-16</td>\n",
       "      <td>1993-05-16</td>\n",
       "      <td>0</td>\n",
       "      <td>1</td>\n",
       "      <td>1</td>\n",
       "      <td>0.0</td>\n",
       "      <td>10000s</td>\n",
       "      <td>political behavior, process</td>\n",
       "      <td>political</td>\n",
       "      <td>ignore</td>\n",
       "      <td>0</td>\n",
       "    </tr>\n",
       "    <tr>\n",
       "      <th>7</th>\n",
       "      <td>Canada</td>\n",
       "      <td>1993</td>\n",
       "      <td>North America</td>\n",
       "      <td>1993-07-01</td>\n",
       "      <td>1993-08-31</td>\n",
       "      <td>61</td>\n",
       "      <td>1</td>\n",
       "      <td>2</td>\n",
       "      <td>0.0</td>\n",
       "      <td>100s</td>\n",
       "      <td>political behavior, process</td>\n",
       "      <td>political</td>\n",
       "      <td>arrests</td>\n",
       "      <td>1</td>\n",
       "    </tr>\n",
       "    <tr>\n",
       "      <th>8</th>\n",
       "      <td>Canada</td>\n",
       "      <td>1994</td>\n",
       "      <td>North America</td>\n",
       "      <td>1994-09-01</td>\n",
       "      <td>1994-09-01</td>\n",
       "      <td>0</td>\n",
       "      <td>1</td>\n",
       "      <td>1</td>\n",
       "      <td>0.0</td>\n",
       "      <td>10000</td>\n",
       "      <td>political behavior, process</td>\n",
       "      <td>political</td>\n",
       "      <td>ignore</td>\n",
       "      <td>0</td>\n",
       "    </tr>\n",
       "    <tr>\n",
       "      <th>9</th>\n",
       "      <td>Canada</td>\n",
       "      <td>1994</td>\n",
       "      <td>North America</td>\n",
       "      <td>1994-11-18</td>\n",
       "      <td>1994-11-18</td>\n",
       "      <td>0</td>\n",
       "      <td>1</td>\n",
       "      <td>2</td>\n",
       "      <td>0.0</td>\n",
       "      <td>6000</td>\n",
       "      <td>price increases, tax policy</td>\n",
       "      <td>economical</td>\n",
       "      <td>ignore</td>\n",
       "      <td>0</td>\n",
       "    </tr>\n",
       "    <tr>\n",
       "      <th>10</th>\n",
       "      <td>Canada</td>\n",
       "      <td>1995</td>\n",
       "      <td>North America</td>\n",
       "      <td>1995-02-20</td>\n",
       "      <td>1995-02-20</td>\n",
       "      <td>0</td>\n",
       "      <td>1</td>\n",
       "      <td>1</td>\n",
       "      <td>0.0</td>\n",
       "      <td>3000</td>\n",
       "      <td>price increases, tax policy</td>\n",
       "      <td>economical</td>\n",
       "      <td>ignore</td>\n",
       "      <td>0</td>\n",
       "    </tr>\n",
       "    <tr>\n",
       "      <th>11</th>\n",
       "      <td>Canada</td>\n",
       "      <td>1996</td>\n",
       "      <td>North America</td>\n",
       "      <td>1996-10-26</td>\n",
       "      <td>1996-10-26</td>\n",
       "      <td>0</td>\n",
       "      <td>1</td>\n",
       "      <td>1</td>\n",
       "      <td>0.0</td>\n",
       "      <td>1000s</td>\n",
       "      <td>price increases, tax policy</td>\n",
       "      <td>economical</td>\n",
       "      <td>ignore</td>\n",
       "      <td>0</td>\n",
       "    </tr>\n",
       "    <tr>\n",
       "      <th>12</th>\n",
       "      <td>Canada</td>\n",
       "      <td>1997</td>\n",
       "      <td>North America</td>\n",
       "      <td>1997-11-19</td>\n",
       "      <td>1997-12-04</td>\n",
       "      <td>15</td>\n",
       "      <td>1</td>\n",
       "      <td>2</td>\n",
       "      <td>0.0</td>\n",
       "      <td>45000</td>\n",
       "      <td>labor wage dispute</td>\n",
       "      <td>economical</td>\n",
       "      <td>ignore</td>\n",
       "      <td>0</td>\n",
       "    </tr>\n",
       "    <tr>\n",
       "      <th>13</th>\n",
       "      <td>Canada</td>\n",
       "      <td>2000</td>\n",
       "      <td>North America</td>\n",
       "      <td>2000-02-22</td>\n",
       "      <td>2000-02-23</td>\n",
       "      <td>1</td>\n",
       "      <td>1</td>\n",
       "      <td>1</td>\n",
       "      <td>1.0</td>\n",
       "      <td>2000</td>\n",
       "      <td>political behavior, process</td>\n",
       "      <td>political</td>\n",
       "      <td>ignore</td>\n",
       "      <td>0</td>\n",
       "    </tr>\n",
       "    <tr>\n",
       "      <th>14</th>\n",
       "      <td>Canada</td>\n",
       "      <td>2000</td>\n",
       "      <td>North America</td>\n",
       "      <td>2000-02-26</td>\n",
       "      <td>2000-02-26</td>\n",
       "      <td>0</td>\n",
       "      <td>1</td>\n",
       "      <td>2</td>\n",
       "      <td>0.0</td>\n",
       "      <td>400</td>\n",
       "      <td>police brutality</td>\n",
       "      <td>political</td>\n",
       "      <td>accomodation</td>\n",
       "      <td>0</td>\n",
       "    </tr>\n",
       "    <tr>\n",
       "      <th>15</th>\n",
       "      <td>Canada</td>\n",
       "      <td>2000</td>\n",
       "      <td>North America</td>\n",
       "      <td>2000-05-09</td>\n",
       "      <td>2000-05-09</td>\n",
       "      <td>0</td>\n",
       "      <td>1</td>\n",
       "      <td>3</td>\n",
       "      <td>0.0</td>\n",
       "      <td>500</td>\n",
       "      <td>political behavior, process</td>\n",
       "      <td>political</td>\n",
       "      <td>ignore</td>\n",
       "      <td>0</td>\n",
       "    </tr>\n",
       "    <tr>\n",
       "      <th>16</th>\n",
       "      <td>Canada</td>\n",
       "      <td>2003</td>\n",
       "      <td>North America</td>\n",
       "      <td>2003-05-03</td>\n",
       "      <td>2003-05-03</td>\n",
       "      <td>0</td>\n",
       "      <td>1</td>\n",
       "      <td>1</td>\n",
       "      <td>1.0</td>\n",
       "      <td>250</td>\n",
       "      <td>political behavior, process</td>\n",
       "      <td>political</td>\n",
       "      <td>ignore</td>\n",
       "      <td>0</td>\n",
       "    </tr>\n",
       "    <tr>\n",
       "      <th>17</th>\n",
       "      <td>Canada</td>\n",
       "      <td>2005</td>\n",
       "      <td>North America</td>\n",
       "      <td>2005-03-03</td>\n",
       "      <td>2005-04-03</td>\n",
       "      <td>31</td>\n",
       "      <td>1</td>\n",
       "      <td>1</td>\n",
       "      <td>1.0</td>\n",
       "      <td>170000</td>\n",
       "      <td>political behavior, process</td>\n",
       "      <td>political</td>\n",
       "      <td>arrests</td>\n",
       "      <td>1</td>\n",
       "    </tr>\n",
       "    <tr>\n",
       "      <th>18</th>\n",
       "      <td>Canada</td>\n",
       "      <td>2005</td>\n",
       "      <td>North America</td>\n",
       "      <td>2005-09-10</td>\n",
       "      <td>2005-09-10</td>\n",
       "      <td>0</td>\n",
       "      <td>1</td>\n",
       "      <td>2</td>\n",
       "      <td>0.0</td>\n",
       "      <td>300</td>\n",
       "      <td>political behavior, process</td>\n",
       "      <td>political</td>\n",
       "      <td>ignore</td>\n",
       "      <td>0</td>\n",
       "    </tr>\n",
       "    <tr>\n",
       "      <th>19</th>\n",
       "      <td>Canada</td>\n",
       "      <td>2007</td>\n",
       "      <td>North America</td>\n",
       "      <td>2007-06-29</td>\n",
       "      <td>2007-06-29</td>\n",
       "      <td>0</td>\n",
       "      <td>1</td>\n",
       "      <td>1</td>\n",
       "      <td>0.0</td>\n",
       "      <td>1000s</td>\n",
       "      <td>political behavior, process</td>\n",
       "      <td>political</td>\n",
       "      <td>ignore</td>\n",
       "      <td>0</td>\n",
       "    </tr>\n",
       "  </tbody>\n",
       "</table>\n",
       "</div>"
      ],
      "text/plain": [
       "   country  year         region start_date   end_date  movement_duration  \\\n",
       "0   Canada  1990  North America 1990-06-25 1990-06-25                  0   \n",
       "1   Canada  1990  North America 1990-07-01 1990-07-01                  0   \n",
       "2   Canada  1990  North America 1990-07-12 1990-09-06                 56   \n",
       "3   Canada  1991  North America 1991-09-10 1991-09-17                  7   \n",
       "4   Canada  1991  North America 1991-09-28 1991-10-02                  4   \n",
       "5   Canada  1992  North America 1992-05-04 1992-05-05                  1   \n",
       "6   Canada  1993  North America 1993-05-16 1993-05-16                  0   \n",
       "7   Canada  1993  North America 1993-07-01 1993-08-31                 61   \n",
       "8   Canada  1994  North America 1994-09-01 1994-09-01                  0   \n",
       "9   Canada  1994  North America 1994-11-18 1994-11-18                  0   \n",
       "10  Canada  1995  North America 1995-02-20 1995-02-20                  0   \n",
       "11  Canada  1996  North America 1996-10-26 1996-10-26                  0   \n",
       "12  Canada  1997  North America 1997-11-19 1997-12-04                 15   \n",
       "13  Canada  2000  North America 2000-02-22 2000-02-23                  1   \n",
       "14  Canada  2000  North America 2000-02-26 2000-02-26                  0   \n",
       "15  Canada  2000  North America 2000-05-09 2000-05-09                  0   \n",
       "16  Canada  2003  North America 2003-05-03 2003-05-03                  0   \n",
       "17  Canada  2005  North America 2005-03-03 2005-04-03                 31   \n",
       "18  Canada  2005  North America 2005-09-10 2005-09-10                  0   \n",
       "19  Canada  2007  North America 2007-06-29 2007-06-29                  0   \n",
       "\n",
       "    protest  protest_number  protester_violence participants  \\\n",
       "0         1               2                 0.0         1000   \n",
       "1         1               3                 0.0          500   \n",
       "2         1               4                 1.0         100s   \n",
       "3         1               1                 0.0       110000   \n",
       "4         1               2                 0.0       110000   \n",
       "5         1               1                 1.0         1000   \n",
       "6         1               1                 0.0       10000s   \n",
       "7         1               2                 0.0         100s   \n",
       "8         1               1                 0.0        10000   \n",
       "9         1               2                 0.0         6000   \n",
       "10        1               1                 0.0         3000   \n",
       "11        1               1                 0.0        1000s   \n",
       "12        1               2                 0.0        45000   \n",
       "13        1               1                 1.0         2000   \n",
       "14        1               2                 0.0          400   \n",
       "15        1               3                 0.0          500   \n",
       "16        1               1                 1.0          250   \n",
       "17        1               1                 1.0       170000   \n",
       "18        1               2                 0.0          300   \n",
       "19        1               1                 0.0        1000s   \n",
       "\n",
       "               protester_demand demand_type state_response  response_use_force  \n",
       "0   political behavior, process   political         ignore                   0  \n",
       "1   political behavior, process   political         ignore                   0  \n",
       "2               land farm issue  economical   accomodation                   0  \n",
       "3            labor wage dispute  economical         ignore                   0  \n",
       "4            labor wage dispute  economical         ignore                   0  \n",
       "5              police brutality   political        arrests                   1  \n",
       "6   political behavior, process   political         ignore                   0  \n",
       "7   political behavior, process   political        arrests                   1  \n",
       "8   political behavior, process   political         ignore                   0  \n",
       "9   price increases, tax policy  economical         ignore                   0  \n",
       "10  price increases, tax policy  economical         ignore                   0  \n",
       "11  price increases, tax policy  economical         ignore                   0  \n",
       "12           labor wage dispute  economical         ignore                   0  \n",
       "13  political behavior, process   political         ignore                   0  \n",
       "14             police brutality   political   accomodation                   0  \n",
       "15  political behavior, process   political         ignore                   0  \n",
       "16  political behavior, process   political         ignore                   0  \n",
       "17  political behavior, process   political        arrests                   1  \n",
       "18  political behavior, process   political         ignore                   0  \n",
       "19  political behavior, process   political         ignore                   0  "
      ]
     },
     "execution_count": 331,
     "metadata": {},
     "output_type": "execute_result"
    }
   ],
   "source": [
    "social_movements_df.head(20)"
   ]
  },
  {
   "cell_type": "markdown",
   "metadata": {},
   "source": [
    "## Exploring the dataset"
   ]
  },
  {
   "cell_type": "markdown",
   "metadata": {},
   "source": [
    "This section is dedicated to the first objective of the project, that is, to explore the trends in mass mobilizations. Here, I intend to do some descriptive statistics to be able to identify the variables that could be good predictors for elaborating a machine learning model in the next section. "
   ]
  },
  {
   "cell_type": "code",
   "execution_count": 332,
   "metadata": {},
   "outputs": [],
   "source": [
    "massmob_per_year_northamerica = social_movements_df[social_movements_df[\"region\"] == \"North America\"].groupby(\"year\").size()\n",
    "massmob_per_year_centralamerica = social_movements_df[social_movements_df[\"region\"] == \"Central America\"].groupby(\"year\").size()\n",
    "massmob_per_year_southamerica = social_movements_df[social_movements_df[\"region\"] == \"South America\"].groupby(\"year\").size()\n",
    "massmob_per_year_europe = social_movements_df[social_movements_df[\"region\"] == \"Europe\"].groupby(\"year\").size()\n",
    "massmob_per_year_asia = social_movements_df[social_movements_df[\"region\"] == \"Asia\"].groupby(\"year\").size()\n",
    "massmob_per_year_mena = social_movements_df[social_movements_df[\"region\"] == \"MENA\"].groupby(\"year\").size()\n",
    "massmob_per_year_africa = social_movements_df[social_movements_df[\"region\"] == \"Africa\"].groupby(\"year\").size()"
   ]
  },
  {
   "cell_type": "code",
   "execution_count": 354,
   "metadata": {},
   "outputs": [
    {
     "data": {
      "image/png": "[encoded data removed]",
      "text/plain": [
       "<Figure size 864x504 with 1 Axes>"
      ]
     },
     "metadata": {
      "needs_background": "light"
     },
     "output_type": "display_data"
    }
   ],
   "source": [
    "plt.figure(figsize = (12,7))\n",
    "\n",
    "plt.plot(massmob_per_year_northamerica.index, massmob_per_year_northamerica, label = \"North America\")\n",
    "plt.plot(massmob_per_year_centralamerica.index, massmob_per_year_centralamerica, label = \"Central America\")\n",
    "plt.plot(massmob_per_year_southamerica.index, massmob_per_year_southamerica, label = \"South America\")\n",
    "plt.plot(massmob_per_year_europe.index, massmob_per_year_europe, label = \"Europe\")\n",
    "plt.plot(massmob_per_year_asia.index, massmob_per_year_asia, label = \"Asia\")\n",
    "plt.plot(massmob_per_year_mena.index, massmob_per_year_mena, label = \"MENA\")\n",
    "plt.plot(massmob_per_year_africa.index, massmob_per_year_africa, label = \"Africa\")\n",
    "plt.legend()\n",
    "plt.title(\"Mass Mobilizations per Year per Region\");\n",
    "plt.ylabel(\"Number of mass mobilizations\");\n",
    "plt.xlabel(\"Year\");"
   ]
  },
  {
   "cell_type": "code",
   "execution_count": null,
   "metadata": {},
   "outputs": [],
   "source": []
  },
  {
   "cell_type": "code",
   "execution_count": null,
   "metadata": {},
   "outputs": [],
   "source": []
  },
  {
   "cell_type": "code",
   "execution_count": null,
   "metadata": {},
   "outputs": [],
   "source": []
  },
  {
   "cell_type": "code",
   "execution_count": null,
   "metadata": {},
   "outputs": [],
   "source": []
  },
  {
   "cell_type": "code",
   "execution_count": null,
   "metadata": {},
   "outputs": [],
   "source": []
  },
  {
   "cell_type": "code",
   "execution_count": null,
   "metadata": {},
   "outputs": [],
   "source": []
  },
  {
   "cell_type": "code",
   "execution_count": 348,
   "metadata": {},
   "outputs": [
    {
     "data": {
      "text/plain": [
       "<AxesSubplot:xlabel='region', ylabel='count'>"
      ]
     },
     "execution_count": 348,
     "metadata": {},
     "output_type": "execute_result"
    },
    {
     "data": {
      "image/png": "[encoded data removed]",
      "text/plain": [
       "<Figure size 432x288 with 1 Axes>"
      ]
     },
     "metadata": {
      "needs_background": "light"
     },
     "output_type": "display_data"
    }
   ],
   "source": [
    "sns.countplot(x = social_movements_df[\"region\"], hue = social_movements_df[\"response_use_force\"])"
   ]
  },
  {
   "cell_type": "code",
   "execution_count": null,
   "metadata": {},
   "outputs": [],
   "source": []
  },
  {
   "cell_type": "code",
   "execution_count": 347,
   "metadata": {},
   "outputs": [
    {
     "data": {
      "text/plain": [
       "<AxesSubplot:xlabel='protester_demand', ylabel='count'>"
      ]
     },
     "execution_count": 347,
     "metadata": {},
     "output_type": "execute_result"
    },
    {
     "data": {
      "image/png": "[encoded data removed]",
      "text/plain": [
       "<Figure size 432x288 with 1 Axes>"
      ]
     },
     "metadata": {
      "needs_background": "light"
     },
     "output_type": "display_data"
    }
   ],
   "source": [
    "sns.countplot(x = social_movements_df[\"protester_demand\"], hue = social_movements_df[\"response_use_force\"])"
   ]
  },
  {
   "cell_type": "code",
   "execution_count": null,
   "metadata": {},
   "outputs": [],
   "source": []
  },
  {
   "cell_type": "code",
   "execution_count": null,
   "metadata": {},
   "outputs": [],
   "source": []
  },
  {
   "cell_type": "code",
   "execution_count": null,
   "metadata": {},
   "outputs": [],
   "source": []
  },
  {
   "cell_type": "code",
   "execution_count": null,
   "metadata": {},
   "outputs": [],
   "source": []
  },
  {
   "cell_type": "code",
   "execution_count": null,
   "metadata": {},
   "outputs": [],
   "source": []
  },
  {
   "cell_type": "code",
   "execution_count": null,
   "metadata": {},
   "outputs": [],
   "source": []
  },
  {
   "cell_type": "code",
   "execution_count": null,
   "metadata": {},
   "outputs": [],
   "source": []
  },
  {
   "cell_type": "code",
   "execution_count": null,
   "metadata": {},
   "outputs": [],
   "source": []
  },
  {
   "cell_type": "code",
   "execution_count": null,
   "metadata": {},
   "outputs": [],
   "source": []
  },
  {
   "cell_type": "code",
   "execution_count": null,
   "metadata": {},
   "outputs": [],
   "source": []
  },
  {
   "cell_type": "code",
   "execution_count": null,
   "metadata": {},
   "outputs": [],
   "source": []
  },
  {
   "cell_type": "code",
   "execution_count": null,
   "metadata": {},
   "outputs": [],
   "source": []
  },
  {
   "cell_type": "code",
   "execution_count": null,
   "metadata": {},
   "outputs": [],
   "source": []
  },
  {
   "cell_type": "code",
   "execution_count": null,
   "metadata": {},
   "outputs": [],
   "source": []
  },
  {
   "cell_type": "code",
   "execution_count": null,
   "metadata": {},
   "outputs": [],
   "source": []
  },
  {
   "cell_type": "code",
   "execution_count": null,
   "metadata": {},
   "outputs": [],
   "source": []
  },
  {
   "cell_type": "code",
   "execution_count": null,
   "metadata": {},
   "outputs": [],
   "source": []
  },
  {
   "cell_type": "code",
   "execution_count": null,
   "metadata": {},
   "outputs": [],
   "source": []
  },
  {
   "cell_type": "code",
   "execution_count": null,
   "metadata": {},
   "outputs": [],
   "source": []
  },
  {
   "cell_type": "code",
   "execution_count": null,
   "metadata": {},
   "outputs": [],
   "source": []
  },
  {
   "cell_type": "code",
   "execution_count": null,
   "metadata": {},
   "outputs": [],
   "source": []
  },
  {
   "cell_type": "code",
   "execution_count": null,
   "metadata": {},
   "outputs": [],
   "source": []
  },
  {
   "cell_type": "code",
   "execution_count": null,
   "metadata": {},
   "outputs": [],
   "source": []
  },
  {
   "cell_type": "code",
   "execution_count": null,
   "metadata": {},
   "outputs": [],
   "source": []
  },
  {
   "cell_type": "code",
   "execution_count": null,
   "metadata": {},
   "outputs": [],
   "source": []
  },
  {
   "cell_type": "code",
   "execution_count": null,
   "metadata": {},
   "outputs": [],
   "source": []
  },
  {
   "cell_type": "code",
   "execution_count": null,
   "metadata": {},
   "outputs": [],
   "source": []
  },
  {
   "cell_type": "code",
   "execution_count": null,
   "metadata": {},
   "outputs": [],
   "source": []
  },
  {
   "cell_type": "code",
   "execution_count": null,
   "metadata": {},
   "outputs": [],
   "source": []
  },
  {
   "cell_type": "code",
   "execution_count": null,
   "metadata": {},
   "outputs": [],
   "source": []
  },
  {
   "cell_type": "code",
   "execution_count": null,
   "metadata": {},
   "outputs": [],
   "source": []
  },
  {
   "cell_type": "code",
   "execution_count": null,
   "metadata": {},
   "outputs": [],
   "source": []
  },
  {
   "cell_type": "code",
   "execution_count": null,
   "metadata": {},
   "outputs": [],
   "source": []
  },
  {
   "cell_type": "code",
   "execution_count": null,
   "metadata": {},
   "outputs": [],
   "source": []
  },
  {
   "cell_type": "code",
   "execution_count": null,
   "metadata": {},
   "outputs": [
    {
     "data": {
      "text/plain": [
       "range(0, 10047)"
      ]
     },
     "execution_count": 300,
     "metadata": {},
     "output_type": "execute_result"
    }
   ],
   "source": [
    "len(social_movements_df)\n",
    "range(10047)"
   ]
  },
  {
   "cell_type": "code",
   "execution_count": null,
   "metadata": {},
   "outputs": [],
   "source": []
  },
  {
   "cell_type": "code",
   "execution_count": null,
   "metadata": {},
   "outputs": [],
   "source": []
  },
  {
   "cell_type": "code",
   "execution_count": null,
   "metadata": {},
   "outputs": [],
   "source": []
  },
  {
   "cell_type": "code",
   "execution_count": null,
   "metadata": {},
   "outputs": [],
   "source": []
  },
  {
   "cell_type": "code",
   "execution_count": null,
   "metadata": {},
   "outputs": [],
   "source": []
  },
  {
   "cell_type": "markdown",
   "metadata": {},
   "source": []
  },
  {
   "cell_type": "code",
   "execution_count": null,
   "metadata": {},
   "outputs": [],
   "source": []
  },
  {
   "cell_type": "code",
   "execution_count": null,
   "metadata": {},
   "outputs": [],
   "source": []
  },
  {
   "cell_type": "code",
   "execution_count": null,
   "metadata": {},
   "outputs": [],
   "source": []
  },
  {
   "cell_type": "code",
   "execution_count": null,
   "metadata": {},
   "outputs": [],
   "source": []
  },
  {
   "cell_type": "code",
   "execution_count": null,
   "metadata": {},
   "outputs": [],
   "source": []
  },
  {
   "cell_type": "code",
   "execution_count": null,
   "metadata": {},
   "outputs": [],
   "source": []
  },
  {
   "cell_type": "code",
   "execution_count": null,
   "metadata": {},
   "outputs": [],
   "source": []
  },
  {
   "cell_type": "code",
   "execution_count": null,
   "metadata": {},
   "outputs": [],
   "source": []
  },
  {
   "cell_type": "code",
   "execution_count": null,
   "metadata": {},
   "outputs": [],
   "source": []
  },
  {
   "cell_type": "code",
   "execution_count": null,
   "metadata": {},
   "outputs": [],
   "source": []
  },
  {
   "cell_type": "code",
   "execution_count": null,
   "metadata": {},
   "outputs": [],
   "source": []
  },
  {
   "cell_type": "code",
   "execution_count": null,
   "metadata": {},
   "outputs": [],
   "source": []
  },
  {
   "cell_type": "code",
   "execution_count": null,
   "metadata": {},
   "outputs": [],
   "source": []
  },
  {
   "cell_type": "code",
   "execution_count": null,
   "metadata": {},
   "outputs": [],
   "source": []
  },
  {
   "cell_type": "code",
   "execution_count": null,
   "metadata": {},
   "outputs": [],
   "source": []
  },
  {
   "cell_type": "code",
   "execution_count": null,
   "metadata": {},
   "outputs": [],
   "source": []
  },
  {
   "cell_type": "code",
   "execution_count": null,
   "metadata": {},
   "outputs": [],
   "source": []
  },
  {
   "cell_type": "code",
   "execution_count": null,
   "metadata": {},
   "outputs": [
    {
     "data": {
      "text/plain": [
       "<bound method NDFrame.head of                 country  year         region start_date   end_date  \\\n",
       "0                Canada  1990  North America 1990-06-25 1990-06-25   \n",
       "1                Canada  1990  North America 1990-07-01 1990-07-01   \n",
       "2                Canada  1990  North America 1990-07-12 1990-09-06   \n",
       "3                Canada  1991  North America 1991-09-10 1991-09-17   \n",
       "4                Canada  1991  North America 1991-09-28 1991-10-02   \n",
       "...                 ...   ...            ...        ...        ...   \n",
       "10042  Papua New Guinea  2012        Oceania 2012-03-29 2012-03-29   \n",
       "10043  Papua New Guinea  2012        Oceania 2012-04-10 2012-04-10   \n",
       "10044  Papua New Guinea  2013        Oceania 2013-08-02 2013-08-02   \n",
       "10045  Papua New Guinea  2017        Oceania 2017-07-15 2017-07-15   \n",
       "10046  Papua New Guinea  2017        Oceania 2017-10-31 2017-10-31   \n",
       "\n",
       "       movement_duration  protest  protest_number  protester_violence  \\\n",
       "0                      0        1               2                 0.0   \n",
       "1                      0        1               3                 0.0   \n",
       "2                     56        1               4                 1.0   \n",
       "3                      7        1               1                 0.0   \n",
       "4                      4        1               2                 0.0   \n",
       "...                  ...      ...             ...                 ...   \n",
       "10042                  0        1               2                 0.0   \n",
       "10043                  0        1               3                 0.0   \n",
       "10044                  0        1               1                 0.0   \n",
       "10045                  0        1               2                 1.0   \n",
       "10046                  0        1               3                 0.0   \n",
       "\n",
       "      participants             protester_demand demand_type   state_response  \\\n",
       "0             1000  political behavior, process   political           ignore   \n",
       "1              500  political behavior, process   political           ignore   \n",
       "2             100s              land farm issue  economical     accomodation   \n",
       "3           110000           labor wage dispute  economical           ignore   \n",
       "4           110000           labor wage dispute  economical           ignore   \n",
       "...            ...                          ...         ...              ...   \n",
       "10042         1000  political behavior, process   political     accomodation   \n",
       "10043        1000s  political behavior, process   political     accomodation   \n",
       "10044         2000  political behavior, process   political  crowd dispersal   \n",
       "10045          50+  political behavior, process   political  crowd dispersal   \n",
       "10046    About 100  political behavior, process   political           ignore   \n",
       "\n",
       "       response_use_force  \n",
       "0                       0  \n",
       "1                       0  \n",
       "2                       0  \n",
       "3                       0  \n",
       "4                       0  \n",
       "...                   ...  \n",
       "10042                   0  \n",
       "10043                   0  \n",
       "10044                   1  \n",
       "10045                   1  \n",
       "10046                   0  \n",
       "\n",
       "[10047 rows x 14 columns]>"
      ]
     },
     "execution_count": 301,
     "metadata": {},
     "output_type": "execute_result"
    }
   ],
   "source": [
    "social_movements_df.head"
   ]
  },
  {
   "cell_type": "code",
   "execution_count": null,
   "metadata": {},
   "outputs": [],
   "source": []
  },
  {
   "cell_type": "code",
   "execution_count": null,
   "metadata": {},
   "outputs": [],
   "source": []
  },
  {
   "cell_type": "code",
   "execution_count": null,
   "metadata": {},
   "outputs": [],
   "source": []
  },
  {
   "cell_type": "code",
   "execution_count": null,
   "metadata": {},
   "outputs": [],
   "source": []
  },
  {
   "cell_type": "code",
   "execution_count": null,
   "metadata": {},
   "outputs": [],
   "source": []
  },
  {
   "cell_type": "code",
   "execution_count": null,
   "metadata": {},
   "outputs": [],
   "source": []
  },
  {
   "cell_type": "code",
   "execution_count": null,
   "metadata": {},
   "outputs": [],
   "source": []
  },
  {
   "cell_type": "code",
   "execution_count": null,
   "metadata": {},
   "outputs": [],
   "source": []
  },
  {
   "cell_type": "code",
   "execution_count": null,
   "metadata": {},
   "outputs": [],
   "source": []
  },
  {
   "cell_type": "code",
   "execution_count": null,
   "metadata": {},
   "outputs": [],
   "source": []
  },
  {
   "cell_type": "code",
   "execution_count": null,
   "metadata": {},
   "outputs": [],
   "source": []
  },
  {
   "cell_type": "code",
   "execution_count": null,
   "metadata": {},
   "outputs": [],
   "source": []
  },
  {
   "cell_type": "code",
   "execution_count": null,
   "metadata": {},
   "outputs": [],
   "source": []
  },
  {
   "cell_type": "code",
   "execution_count": null,
   "metadata": {},
   "outputs": [],
   "source": []
  },
  {
   "cell_type": "code",
   "execution_count": null,
   "metadata": {},
   "outputs": [],
   "source": []
  },
  {
   "cell_type": "code",
   "execution_count": null,
   "metadata": {},
   "outputs": [],
   "source": []
  },
  {
   "cell_type": "code",
   "execution_count": null,
   "metadata": {},
   "outputs": [],
   "source": []
  },
  {
   "cell_type": "code",
   "execution_count": null,
   "metadata": {},
   "outputs": [],
   "source": []
  },
  {
   "cell_type": "code",
   "execution_count": null,
   "metadata": {},
   "outputs": [
    {
     "name": "stdout",
     "output_type": "stream",
     "text": [
      "country               0.0\n",
      "year                  0.0\n",
      "region                0.0\n",
      "start_date            0.0\n",
      "end_date              0.0\n",
      "movement_duration     0.0\n",
      "protest               0.0\n",
      "protest_number        0.0\n",
      "protester_violence    0.0\n",
      "participants          0.0\n",
      "protester_demand      0.0\n",
      "demand_type           0.0\n",
      "state_response        0.0\n",
      "response_use_force    0.0\n",
      "dtype: float64\n"
     ]
    }
   ],
   "source": [
    "column_na_proportion = social_movements_df.isna().sum()/len(social_movements_df)\n",
    "print(column_na_proportion)"
   ]
  },
  {
   "cell_type": "code",
   "execution_count": null,
   "metadata": {},
   "outputs": [],
   "source": []
  },
  {
   "cell_type": "code",
   "execution_count": null,
   "metadata": {},
   "outputs": [],
   "source": []
  },
  {
   "cell_type": "code",
   "execution_count": null,
   "metadata": {},
   "outputs": [],
   "source": []
  },
  {
   "cell_type": "code",
   "execution_count": null,
   "metadata": {},
   "outputs": [],
   "source": []
  },
  {
   "cell_type": "code",
   "execution_count": null,
   "metadata": {},
   "outputs": [],
   "source": []
  },
  {
   "cell_type": "code",
   "execution_count": null,
   "metadata": {},
   "outputs": [],
   "source": []
  },
  {
   "cell_type": "code",
   "execution_count": null,
   "metadata": {},
   "outputs": [],
   "source": []
  },
  {
   "cell_type": "code",
   "execution_count": null,
   "metadata": {},
   "outputs": [],
   "source": []
  },
  {
   "cell_type": "code",
   "execution_count": null,
   "metadata": {},
   "outputs": [],
   "source": []
  },
  {
   "cell_type": "code",
   "execution_count": null,
   "metadata": {},
   "outputs": [],
   "source": []
  },
  {
   "cell_type": "code",
   "execution_count": null,
   "metadata": {},
   "outputs": [],
   "source": []
  },
  {
   "cell_type": "code",
   "execution_count": null,
   "metadata": {},
   "outputs": [],
   "source": []
  },
  {
   "cell_type": "code",
   "execution_count": null,
   "metadata": {},
   "outputs": [],
   "source": []
  },
  {
   "cell_type": "code",
   "execution_count": null,
   "metadata": {},
   "outputs": [],
   "source": []
  },
  {
   "cell_type": "code",
   "execution_count": null,
   "metadata": {},
   "outputs": [],
   "source": []
  },
  {
   "cell_type": "code",
   "execution_count": null,
   "metadata": {},
   "outputs": [],
   "source": []
  },
  {
   "cell_type": "code",
   "execution_count": null,
   "metadata": {},
   "outputs": [],
   "source": []
  },
  {
   "cell_type": "code",
   "execution_count": null,
   "metadata": {},
   "outputs": [],
   "source": []
  },
  {
   "cell_type": "code",
   "execution_count": null,
   "metadata": {},
   "outputs": [],
   "source": []
  },
  {
   "cell_type": "code",
   "execution_count": null,
   "metadata": {},
   "outputs": [],
   "source": []
  },
  {
   "cell_type": "code",
   "execution_count": null,
   "metadata": {},
   "outputs": [],
   "source": []
  },
  {
   "cell_type": "code",
   "execution_count": null,
   "metadata": {},
   "outputs": [],
   "source": []
  },
  {
   "cell_type": "code",
   "execution_count": null,
   "metadata": {},
   "outputs": [],
   "source": []
  },
  {
   "cell_type": "code",
   "execution_count": null,
   "metadata": {},
   "outputs": [],
   "source": []
  },
  {
   "cell_type": "code",
   "execution_count": null,
   "metadata": {},
   "outputs": [],
   "source": []
  },
  {
   "cell_type": "code",
   "execution_count": null,
   "metadata": {},
   "outputs": [],
   "source": []
  },
  {
   "cell_type": "code",
   "execution_count": null,
   "metadata": {},
   "outputs": [],
   "source": []
  },
  {
   "cell_type": "code",
   "execution_count": null,
   "metadata": {},
   "outputs": [],
   "source": []
  },
  {
   "cell_type": "code",
   "execution_count": null,
   "metadata": {},
   "outputs": [],
   "source": []
  },
  {
   "cell_type": "code",
   "execution_count": null,
   "metadata": {},
   "outputs": [],
   "source": []
  },
  {
   "cell_type": "markdown",
   "metadata": {},
   "source": [
    "For the case of protesters demands, I did something similar. Here, I have recoded \"protesterdemand1\" to \"protesterdemand4\" as a single variable that indicates the nature of the demand. There are three categories: economical, political, both. "
   ]
  },
  {
   "cell_type": "code",
   "execution_count": null,
   "metadata": {},
   "outputs": [],
   "source": []
  },
  {
   "cell_type": "markdown",
   "metadata": {},
   "source": [
    "Then, I formatted the variables for the starting and finishing dates, so that fit in one column each instead of three separate ones. For this, I used the datetime module, given that this allows me to calculate the duration of each mobilization. The duration has also been added to the dataframe because it could be a relevant predictor for the machine learning model. "
   ]
  },
  {
   "cell_type": "code",
   "execution_count": null,
   "metadata": {},
   "outputs": [],
   "source": []
  },
  {
   "cell_type": "code",
   "execution_count": null,
   "metadata": {},
   "outputs": [
    {
     "ename": "KeyError",
     "evalue": "'startday'",
     "output_type": "error",
     "traceback": [
      "\u001b[0;31m---------------------------------------------------------------------------\u001b[0m",
      "\u001b[0;31mKeyError\u001b[0m                                  Traceback (most recent call last)",
      "\u001b[0;32m/opt/anaconda3/lib/python3.8/site-packages/pandas/core/indexes/base.py\u001b[0m in \u001b[0;36mget_loc\u001b[0;34m(self, key, method, tolerance)\u001b[0m\n\u001b[1;32m   2894\u001b[0m             \u001b[0;32mtry\u001b[0m\u001b[0;34m:\u001b[0m\u001b[0;34m\u001b[0m\u001b[0;34m\u001b[0m\u001b[0m\n\u001b[0;32m-> 2895\u001b[0;31m                 \u001b[0;32mreturn\u001b[0m \u001b[0mself\u001b[0m\u001b[0;34m.\u001b[0m\u001b[0m_engine\u001b[0m\u001b[0;34m.\u001b[0m\u001b[0mget_loc\u001b[0m\u001b[0;34m(\u001b[0m\u001b[0mcasted_key\u001b[0m\u001b[0;34m)\u001b[0m\u001b[0;34m\u001b[0m\u001b[0;34m\u001b[0m\u001b[0m\n\u001b[0m\u001b[1;32m   2896\u001b[0m             \u001b[0;32mexcept\u001b[0m \u001b[0mKeyError\u001b[0m \u001b[0;32mas\u001b[0m \u001b[0merr\u001b[0m\u001b[0;34m:\u001b[0m\u001b[0;34m\u001b[0m\u001b[0;34m\u001b[0m\u001b[0m\n",
      "\u001b[0;32mpandas/_libs/index.pyx\u001b[0m in \u001b[0;36mpandas._libs.index.IndexEngine.get_loc\u001b[0;34m()\u001b[0m\n",
      "\u001b[0;32mpandas/_libs/index.pyx\u001b[0m in \u001b[0;36mpandas._libs.index.IndexEngine.get_loc\u001b[0;34m()\u001b[0m\n",
      "\u001b[0;32mpandas/_libs/hashtable_class_helper.pxi\u001b[0m in \u001b[0;36mpandas._libs.hashtable.PyObjectHashTable.get_item\u001b[0;34m()\u001b[0m\n",
      "\u001b[0;32mpandas/_libs/hashtable_class_helper.pxi\u001b[0m in \u001b[0;36mpandas._libs.hashtable.PyObjectHashTable.get_item\u001b[0;34m()\u001b[0m\n",
      "\u001b[0;31mKeyError\u001b[0m: 'startday'",
      "\nThe above exception was the direct cause of the following exception:\n",
      "\u001b[0;31mKeyError\u001b[0m                                  Traceback (most recent call last)",
      "\u001b[0;32m<ipython-input-303-997e3b431a31>\u001b[0m in \u001b[0;36m<module>\u001b[0;34m\u001b[0m\n\u001b[1;32m      1\u001b[0m start_time_complete = list(\n\u001b[0;32m----> 2\u001b[0;31m     zip(social_movements_df[\"startday\"], \n\u001b[0m\u001b[1;32m      3\u001b[0m             \u001b[0msocial_movements_df\u001b[0m\u001b[0;34m[\u001b[0m\u001b[0;34m\"startmonth\"\u001b[0m\u001b[0;34m]\u001b[0m\u001b[0;34m,\u001b[0m\u001b[0;34m\u001b[0m\u001b[0;34m\u001b[0m\u001b[0m\n\u001b[1;32m      4\u001b[0m             social_movements_df[\"startyear\"]))\n\u001b[1;32m      5\u001b[0m \u001b[0;34m\u001b[0m\u001b[0m\n",
      "\u001b[0;32m/opt/anaconda3/lib/python3.8/site-packages/pandas/core/frame.py\u001b[0m in \u001b[0;36m__getitem__\u001b[0;34m(self, key)\u001b[0m\n\u001b[1;32m   2900\u001b[0m             \u001b[0;32mif\u001b[0m \u001b[0mself\u001b[0m\u001b[0;34m.\u001b[0m\u001b[0mcolumns\u001b[0m\u001b[0;34m.\u001b[0m\u001b[0mnlevels\u001b[0m \u001b[0;34m>\u001b[0m \u001b[0;36m1\u001b[0m\u001b[0;34m:\u001b[0m\u001b[0;34m\u001b[0m\u001b[0;34m\u001b[0m\u001b[0m\n\u001b[1;32m   2901\u001b[0m                 \u001b[0;32mreturn\u001b[0m \u001b[0mself\u001b[0m\u001b[0;34m.\u001b[0m\u001b[0m_getitem_multilevel\u001b[0m\u001b[0;34m(\u001b[0m\u001b[0mkey\u001b[0m\u001b[0;34m)\u001b[0m\u001b[0;34m\u001b[0m\u001b[0;34m\u001b[0m\u001b[0m\n\u001b[0;32m-> 2902\u001b[0;31m             \u001b[0mindexer\u001b[0m \u001b[0;34m=\u001b[0m \u001b[0mself\u001b[0m\u001b[0;34m.\u001b[0m\u001b[0mcolumns\u001b[0m\u001b[0;34m.\u001b[0m\u001b[0mget_loc\u001b[0m\u001b[0;34m(\u001b[0m\u001b[0mkey\u001b[0m\u001b[0;34m)\u001b[0m\u001b[0;34m\u001b[0m\u001b[0;34m\u001b[0m\u001b[0m\n\u001b[0m\u001b[1;32m   2903\u001b[0m             \u001b[0;32mif\u001b[0m \u001b[0mis_integer\u001b[0m\u001b[0;34m(\u001b[0m\u001b[0mindexer\u001b[0m\u001b[0;34m)\u001b[0m\u001b[0;34m:\u001b[0m\u001b[0;34m\u001b[0m\u001b[0;34m\u001b[0m\u001b[0m\n\u001b[1;32m   2904\u001b[0m                 \u001b[0mindexer\u001b[0m \u001b[0;34m=\u001b[0m \u001b[0;34m[\u001b[0m\u001b[0mindexer\u001b[0m\u001b[0;34m]\u001b[0m\u001b[0;34m\u001b[0m\u001b[0;34m\u001b[0m\u001b[0m\n",
      "\u001b[0;32m/opt/anaconda3/lib/python3.8/site-packages/pandas/core/indexes/base.py\u001b[0m in \u001b[0;36mget_loc\u001b[0;34m(self, key, method, tolerance)\u001b[0m\n\u001b[1;32m   2895\u001b[0m                 \u001b[0;32mreturn\u001b[0m \u001b[0mself\u001b[0m\u001b[0;34m.\u001b[0m\u001b[0m_engine\u001b[0m\u001b[0;34m.\u001b[0m\u001b[0mget_loc\u001b[0m\u001b[0;34m(\u001b[0m\u001b[0mcasted_key\u001b[0m\u001b[0;34m)\u001b[0m\u001b[0;34m\u001b[0m\u001b[0;34m\u001b[0m\u001b[0m\n\u001b[1;32m   2896\u001b[0m             \u001b[0;32mexcept\u001b[0m \u001b[0mKeyError\u001b[0m \u001b[0;32mas\u001b[0m \u001b[0merr\u001b[0m\u001b[0;34m:\u001b[0m\u001b[0;34m\u001b[0m\u001b[0;34m\u001b[0m\u001b[0m\n\u001b[0;32m-> 2897\u001b[0;31m                 \u001b[0;32mraise\u001b[0m \u001b[0mKeyError\u001b[0m\u001b[0;34m(\u001b[0m\u001b[0mkey\u001b[0m\u001b[0;34m)\u001b[0m \u001b[0;32mfrom\u001b[0m \u001b[0merr\u001b[0m\u001b[0;34m\u001b[0m\u001b[0;34m\u001b[0m\u001b[0m\n\u001b[0m\u001b[1;32m   2898\u001b[0m \u001b[0;34m\u001b[0m\u001b[0m\n\u001b[1;32m   2899\u001b[0m         \u001b[0;32mif\u001b[0m \u001b[0mtolerance\u001b[0m \u001b[0;32mis\u001b[0m \u001b[0;32mnot\u001b[0m \u001b[0;32mNone\u001b[0m\u001b[0;34m:\u001b[0m\u001b[0;34m\u001b[0m\u001b[0;34m\u001b[0m\u001b[0m\n",
      "\u001b[0;31mKeyError\u001b[0m: 'startday'"
     ]
    }
   ],
   "source": [
    "start_time_complete = list(\n",
    "    zip(social_movements_df[\"startday\"], \n",
    "            social_movements_df[\"startmonth\"], \n",
    "            social_movements_df[\"startyear\"]))\n",
    "\n",
    "start_time_complete"
   ]
  },
  {
   "cell_type": "code",
   "execution_count": null,
   "metadata": {},
   "outputs": [
    {
     "ename": "SyntaxError",
     "evalue": "unexpected EOF while parsing (<ipython-input-191-6cb0467dcf0d>, line 7)",
     "output_type": "error",
     "traceback": [
      "\u001b[0;36m  File \u001b[0;32m\"<ipython-input-191-6cb0467dcf0d>\"\u001b[0;36m, line \u001b[0;32m7\u001b[0m\n\u001b[0;31m    \u001b[0m\n\u001b[0m    ^\u001b[0m\n\u001b[0;31mSyntaxError\u001b[0m\u001b[0;31m:\u001b[0m unexpected EOF while parsing\n"
     ]
    }
   ],
   "source": [
    "end_time_complete = list(\n",
    "    zip(social_movements_df[\"endday\"], \n",
    "            social_movements_df[\"endmonth\"], \n",
    "            social_movements_df[\"endyear\"]))\n",
    "\n",
    "for row in end_time_complete: \n",
    "    "
   ]
  },
  {
   "cell_type": "code",
   "execution_count": null,
   "metadata": {},
   "outputs": [],
   "source": []
  },
  {
   "cell_type": "code",
   "execution_count": null,
   "metadata": {},
   "outputs": [],
   "source": []
  },
  {
   "cell_type": "markdown",
   "metadata": {},
   "source": [
    "Finally, to conclude the data cleaning process, I dropped the observations which had NaNs. "
   ]
  },
  {
   "cell_type": "code",
   "execution_count": null,
   "metadata": {},
   "outputs": [],
   "source": []
  },
  {
   "cell_type": "code",
   "execution_count": null,
   "metadata": {},
   "outputs": [],
   "source": []
  },
  {
   "cell_type": "code",
   "execution_count": null,
   "metadata": {},
   "outputs": [],
   "source": []
  },
  {
   "cell_type": "code",
   "execution_count": null,
   "metadata": {},
   "outputs": [],
   "source": [
    "col_names = column_na_proportion.index\n",
    "valid_cols = [col for col in col_names if column_na_proportion[col] < 0.5]\n",
    "social_movements_df = social_movements_df[valid_cols]\n",
    "social_movements_df.head()"
   ]
  },
  {
   "cell_type": "code",
   "execution_count": null,
   "metadata": {},
   "outputs": [],
   "source": []
  },
  {
   "cell_type": "code",
   "execution_count": null,
   "metadata": {},
   "outputs": [],
   "source": []
  },
  {
   "cell_type": "code",
   "execution_count": null,
   "metadata": {},
   "outputs": [],
   "source": []
  },
  {
   "cell_type": "code",
   "execution_count": null,
   "metadata": {},
   "outputs": [],
   "source": []
  },
  {
   "cell_type": "code",
   "execution_count": null,
   "metadata": {},
   "outputs": [],
   "source": []
  },
  {
   "cell_type": "code",
   "execution_count": null,
   "metadata": {},
   "outputs": [],
   "source": []
  },
  {
   "cell_type": "code",
   "execution_count": null,
   "metadata": {},
   "outputs": [],
   "source": []
  },
  {
   "cell_type": "code",
   "execution_count": null,
   "metadata": {},
   "outputs": [],
   "source": []
  },
  {
   "cell_type": "code",
   "execution_count": null,
   "metadata": {},
   "outputs": [],
   "source": []
  },
  {
   "cell_type": "code",
   "execution_count": null,
   "metadata": {},
   "outputs": [],
   "source": []
  },
  {
   "cell_type": "code",
   "execution_count": null,
   "metadata": {},
   "outputs": [],
   "source": []
  },
  {
   "cell_type": "code",
   "execution_count": null,
   "metadata": {},
   "outputs": [],
   "source": []
  },
  {
   "cell_type": "code",
   "execution_count": null,
   "metadata": {},
   "outputs": [],
   "source": []
  },
  {
   "cell_type": "code",
   "execution_count": null,
   "metadata": {},
   "outputs": [],
   "source": []
  },
  {
   "cell_type": "code",
   "execution_count": null,
   "metadata": {},
   "outputs": [],
   "source": []
  },
  {
   "cell_type": "code",
   "execution_count": null,
   "metadata": {},
   "outputs": [],
   "source": []
  },
  {
   "cell_type": "code",
   "execution_count": null,
   "metadata": {},
   "outputs": [],
   "source": []
  }
 ],
 "metadata": {
  "kernelspec": {
   "display_name": "Python 3",
   "language": "python",
   "name": "python3"
  },
  "language_info": {
   "codemirror_mode": {
    "name": "ipython",
    "version": 3
   },
   "file_extension": ".py",
   "mimetype": "text/x-python",
   "name": "python",
   "nbconvert_exporter": "python",
   "pygments_lexer": "ipython3",
   "version": "3.8.5"
  }
 },
 "nbformat": 4,
 "nbformat_minor": 4
}
