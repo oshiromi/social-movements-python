{
 "cells": [
  {
   "cell_type": "markdown",
   "metadata": {},
   "source": [
    "# Scientific Python\n",
    "## Central European University // Fall 2021\n",
    "\n",
    "## Final Project\n",
    "Instructor: Marton Posfai\n",
    "\n",
    "Student: Alessandra Oshiro\n"
   ]
  },
  {
   "cell_type": "markdown",
   "metadata": {},
   "source": [
    "## 1. Introduction"
   ]
  },
  {
   "cell_type": "markdown",
   "metadata": {},
   "source": [
    "In this project, my aim is twofold. First, I will explore the \"Mass Mobilization Data\" dataset in look for interesting trends and patterns across regions. Second, I will try to build a machine learning model using logistic regression for binary classification. With this, I want to see if it is possible to predict the state response based on the mobilization's demands, duration, and use of violence by the protesters. \n",
    "\n",
    "As mentioned before, this project is based on the \"Mass Mobilization Data\" dataset, which was elaborated by David Clark and Reagan Patrick. Made publicly available in 2016, it contains data of mass mobilizations (i.e., protests with at least 50 participants) ocurred between 1990 and 2014, in 162 different countries. I will provide more details about relevant variables in latter stages of the project. Nevertheless, the codebook and the dataset can be accessed through the following link: https://doi.org/10.7910/DVN/HTTWYL/TJJZNG. "
   ]
  },
  {
   "cell_type": "markdown",
   "metadata": {},
   "source": [
    "## 2. Loading And Cleaning The Dataset\n",
    "\n",
    "\n",
    "In this section, I prepared the data for the exploration and machine learning sections that come later. This process included dealing with NaNs, deciding which variables are useful for the project, renaming the variables so that they are more informative, among other things. Each part of the data cleaning process is explained in more detail before the corresponding code. \n",
    "\n",
    "\n",
    "First, I imported the required modules.\n"
   ]
  },
  {
   "cell_type": "code",
   "execution_count": 529,
   "metadata": {},
   "outputs": [],
   "source": [
    "import pandas as pd\n",
    "import numpy as np\n",
    "import datetime as datetime\n",
    "import matplotlib.pyplot as plt\n",
    "import seaborn as sns\n",
    "from sklearn import model_selection, linear_model, metrics"
   ]
  },
  {
   "cell_type": "markdown",
   "metadata": {},
   "source": [
    "Then, I loaded the data and used the \"head\" function to have a better idea of how the dataset looks like. The use of the \"info\" function serves the same purpose, as it provides useful information about the NaNs and object types in each variable. "
   ]
  },
  {
   "cell_type": "code",
   "execution_count": 565,
   "metadata": {},
   "outputs": [
    {
     "data": {
      "text/html": [
       "<div>\n",
       "<style scoped>\n",
       "    .dataframe tbody tr th:only-of-type {\n",
       "        vertical-align: middle;\n",
       "    }\n",
       "\n",
       "    .dataframe tbody tr th {\n",
       "        vertical-align: top;\n",
       "    }\n",
       "\n",
       "    .dataframe thead th {\n",
       "        text-align: right;\n",
       "    }\n",
       "</style>\n",
       "<table border=\"1\" class=\"dataframe\">\n",
       "  <thead>\n",
       "    <tr style=\"text-align: right;\">\n",
       "      <th></th>\n",
       "      <th>id</th>\n",
       "      <th>country</th>\n",
       "      <th>ccode</th>\n",
       "      <th>year</th>\n",
       "      <th>region</th>\n",
       "      <th>protest</th>\n",
       "      <th>protestnumber</th>\n",
       "      <th>startday</th>\n",
       "      <th>startmonth</th>\n",
       "      <th>startyear</th>\n",
       "      <th>...</th>\n",
       "      <th>protesterdemand4</th>\n",
       "      <th>stateresponse1</th>\n",
       "      <th>stateresponse2</th>\n",
       "      <th>stateresponse3</th>\n",
       "      <th>stateresponse4</th>\n",
       "      <th>stateresponse5</th>\n",
       "      <th>stateresponse6</th>\n",
       "      <th>stateresponse7</th>\n",
       "      <th>sources</th>\n",
       "      <th>notes</th>\n",
       "    </tr>\n",
       "  </thead>\n",
       "  <tbody>\n",
       "    <tr>\n",
       "      <th>0</th>\n",
       "      <td>201990001</td>\n",
       "      <td>Canada</td>\n",
       "      <td>20</td>\n",
       "      <td>1990</td>\n",
       "      <td>North America</td>\n",
       "      <td>1</td>\n",
       "      <td>1</td>\n",
       "      <td>15.0</td>\n",
       "      <td>1.0</td>\n",
       "      <td>1990.0</td>\n",
       "      <td>...</td>\n",
       "      <td>NaN</td>\n",
       "      <td>ignore</td>\n",
       "      <td>NaN</td>\n",
       "      <td>NaN</td>\n",
       "      <td>NaN</td>\n",
       "      <td>NaN</td>\n",
       "      <td>NaN</td>\n",
       "      <td>NaN</td>\n",
       "      <td>1. great canadian train journeys into history;...</td>\n",
       "      <td>canada s railway passenger system was finally ...</td>\n",
       "    </tr>\n",
       "    <tr>\n",
       "      <th>1</th>\n",
       "      <td>201990002</td>\n",
       "      <td>Canada</td>\n",
       "      <td>20</td>\n",
       "      <td>1990</td>\n",
       "      <td>North America</td>\n",
       "      <td>1</td>\n",
       "      <td>2</td>\n",
       "      <td>25.0</td>\n",
       "      <td>6.0</td>\n",
       "      <td>1990.0</td>\n",
       "      <td>...</td>\n",
       "      <td>NaN</td>\n",
       "      <td>ignore</td>\n",
       "      <td>NaN</td>\n",
       "      <td>NaN</td>\n",
       "      <td>NaN</td>\n",
       "      <td>NaN</td>\n",
       "      <td>NaN</td>\n",
       "      <td>NaN</td>\n",
       "      <td>1. autonomy s cry revived in quebec the new yo...</td>\n",
       "      <td>protestors were only identified as young peopl...</td>\n",
       "    </tr>\n",
       "    <tr>\n",
       "      <th>2</th>\n",
       "      <td>201990003</td>\n",
       "      <td>Canada</td>\n",
       "      <td>20</td>\n",
       "      <td>1990</td>\n",
       "      <td>North America</td>\n",
       "      <td>1</td>\n",
       "      <td>3</td>\n",
       "      <td>1.0</td>\n",
       "      <td>7.0</td>\n",
       "      <td>1990.0</td>\n",
       "      <td>...</td>\n",
       "      <td>NaN</td>\n",
       "      <td>ignore</td>\n",
       "      <td>NaN</td>\n",
       "      <td>NaN</td>\n",
       "      <td>NaN</td>\n",
       "      <td>NaN</td>\n",
       "      <td>NaN</td>\n",
       "      <td>NaN</td>\n",
       "      <td>1. quebec protest after queen calls for unity ...</td>\n",
       "      <td>the queen, after calling on canadians to remai...</td>\n",
       "    </tr>\n",
       "    <tr>\n",
       "      <th>3</th>\n",
       "      <td>201990004</td>\n",
       "      <td>Canada</td>\n",
       "      <td>20</td>\n",
       "      <td>1990</td>\n",
       "      <td>North America</td>\n",
       "      <td>1</td>\n",
       "      <td>4</td>\n",
       "      <td>12.0</td>\n",
       "      <td>7.0</td>\n",
       "      <td>1990.0</td>\n",
       "      <td>...</td>\n",
       "      <td>NaN</td>\n",
       "      <td>accomodation</td>\n",
       "      <td>NaN</td>\n",
       "      <td>NaN</td>\n",
       "      <td>NaN</td>\n",
       "      <td>NaN</td>\n",
       "      <td>NaN</td>\n",
       "      <td>NaN</td>\n",
       "      <td>1. indians gather as siege intensifies; armed ...</td>\n",
       "      <td>canada s federal government has agreed to acqu...</td>\n",
       "    </tr>\n",
       "    <tr>\n",
       "      <th>4</th>\n",
       "      <td>201990005</td>\n",
       "      <td>Canada</td>\n",
       "      <td>20</td>\n",
       "      <td>1990</td>\n",
       "      <td>North America</td>\n",
       "      <td>1</td>\n",
       "      <td>5</td>\n",
       "      <td>14.0</td>\n",
       "      <td>8.0</td>\n",
       "      <td>1990.0</td>\n",
       "      <td>...</td>\n",
       "      <td>NaN</td>\n",
       "      <td>crowd dispersal</td>\n",
       "      <td>arrests</td>\n",
       "      <td>accomodation</td>\n",
       "      <td>NaN</td>\n",
       "      <td>NaN</td>\n",
       "      <td>NaN</td>\n",
       "      <td>NaN</td>\n",
       "      <td>1. dozens hurt in mohawk blockade protest the ...</td>\n",
       "      <td>protests were directed against the state due t...</td>\n",
       "    </tr>\n",
       "  </tbody>\n",
       "</table>\n",
       "<p>5 rows × 31 columns</p>\n",
       "</div>"
      ],
      "text/plain": [
       "          id country  ccode  year         region  protest  protestnumber  \\\n",
       "0  201990001  Canada     20  1990  North America        1              1   \n",
       "1  201990002  Canada     20  1990  North America        1              2   \n",
       "2  201990003  Canada     20  1990  North America        1              3   \n",
       "3  201990004  Canada     20  1990  North America        1              4   \n",
       "4  201990005  Canada     20  1990  North America        1              5   \n",
       "\n",
       "   startday  startmonth  startyear  ...  protesterdemand4   stateresponse1  \\\n",
       "0      15.0         1.0     1990.0  ...               NaN           ignore   \n",
       "1      25.0         6.0     1990.0  ...               NaN           ignore   \n",
       "2       1.0         7.0     1990.0  ...               NaN           ignore   \n",
       "3      12.0         7.0     1990.0  ...               NaN     accomodation   \n",
       "4      14.0         8.0     1990.0  ...               NaN  crowd dispersal   \n",
       "\n",
       "   stateresponse2  stateresponse3 stateresponse4 stateresponse5  \\\n",
       "0             NaN             NaN            NaN            NaN   \n",
       "1             NaN             NaN            NaN            NaN   \n",
       "2             NaN             NaN            NaN            NaN   \n",
       "3             NaN             NaN            NaN            NaN   \n",
       "4         arrests    accomodation            NaN            NaN   \n",
       "\n",
       "  stateresponse6 stateresponse7  \\\n",
       "0            NaN            NaN   \n",
       "1            NaN            NaN   \n",
       "2            NaN            NaN   \n",
       "3            NaN            NaN   \n",
       "4            NaN            NaN   \n",
       "\n",
       "                                             sources  \\\n",
       "0  1. great canadian train journeys into history;...   \n",
       "1  1. autonomy s cry revived in quebec the new yo...   \n",
       "2  1. quebec protest after queen calls for unity ...   \n",
       "3  1. indians gather as siege intensifies; armed ...   \n",
       "4  1. dozens hurt in mohawk blockade protest the ...   \n",
       "\n",
       "                                               notes  \n",
       "0  canada s railway passenger system was finally ...  \n",
       "1  protestors were only identified as young peopl...  \n",
       "2  the queen, after calling on canadians to remai...  \n",
       "3  canada s federal government has agreed to acqu...  \n",
       "4  protests were directed against the state due t...  \n",
       "\n",
       "[5 rows x 31 columns]"
      ]
     },
     "execution_count": 565,
     "metadata": {},
     "output_type": "execute_result"
    }
   ],
   "source": [
    "social_movements_df = pd.read_csv(\"social_movements.csv\")\n",
    "social_movements_df.head()"
   ]
  },
  {
   "cell_type": "code",
   "execution_count": 566,
   "metadata": {},
   "outputs": [
    {
     "name": "stdout",
     "output_type": "stream",
     "text": [
      "<class 'pandas.core.frame.DataFrame'>\n",
      "RangeIndex: 17145 entries, 0 to 17144\n",
      "Data columns (total 31 columns):\n",
      " #   Column                 Non-Null Count  Dtype  \n",
      "---  ------                 --------------  -----  \n",
      " 0   id                     17145 non-null  int64  \n",
      " 1   country                17145 non-null  object \n",
      " 2   ccode                  17145 non-null  int64  \n",
      " 3   year                   17145 non-null  int64  \n",
      " 4   region                 17145 non-null  object \n",
      " 5   protest                17145 non-null  int64  \n",
      " 6   protestnumber          17145 non-null  int64  \n",
      " 7   startday               15239 non-null  float64\n",
      " 8   startmonth             15239 non-null  float64\n",
      " 9   startyear              15239 non-null  float64\n",
      " 10  endday                 15239 non-null  float64\n",
      " 11  endmonth               15239 non-null  float64\n",
      " 12  endyear                15239 non-null  float64\n",
      " 13  protesterviolence      15758 non-null  float64\n",
      " 14  location               15218 non-null  object \n",
      " 15  participants_category  9887 non-null   object \n",
      " 16  participants           15746 non-null  object \n",
      " 17  protesteridentity      14684 non-null  object \n",
      " 18  protesterdemand1       15238 non-null  object \n",
      " 19  protesterdemand2       2977 non-null   object \n",
      " 20  protesterdemand3       383 non-null    object \n",
      " 21  protesterdemand4       831 non-null    object \n",
      " 22  stateresponse1         15208 non-null  object \n",
      " 23  stateresponse2         2888 non-null   object \n",
      " 24  stateresponse3         930 non-null    object \n",
      " 25  stateresponse4         244 non-null    object \n",
      " 26  stateresponse5         849 non-null    object \n",
      " 27  stateresponse6         16 non-null     object \n",
      " 28  stateresponse7         920 non-null    object \n",
      " 29  sources                15235 non-null  object \n",
      " 30  notes                  15193 non-null  object \n",
      "dtypes: float64(7), int64(5), object(19)\n",
      "memory usage: 4.1+ MB\n"
     ]
    }
   ],
   "source": [
    "social_movements_df.info()"
   ]
  },
  {
   "cell_type": "markdown",
   "metadata": {},
   "source": [
    "With a better picture of the dataset, I started the data cleaning process. First, I dropped the columns that were not necessary for the analysis. These variables were either redundant, irrelevant, or were coded in a way that made it difficult to process and recode for the machine learning model."
   ]
  },
  {
   "cell_type": "code",
   "execution_count": 567,
   "metadata": {},
   "outputs": [],
   "source": [
    "social_movements_df.drop([\"id\", \"ccode\", \"protesteridentity\", \"participants_category\", \"location\", \"sources\", \"notes\", \"protestnumber\", \"participants\"], \n",
    "                            axis = 1, inplace = True)"
   ]
  },
  {
   "cell_type": "markdown",
   "metadata": {},
   "source": [
    "Another thing to consider during the cleaning is the amount of NaNs. As the initial summary indicates, there are several variables that have a noticeable amount of missing values. To have a better picture of this, I calculated the proportion of NaNs per column."
   ]
  },
  {
   "cell_type": "code",
   "execution_count": 568,
   "metadata": {},
   "outputs": [
    {
     "name": "stdout",
     "output_type": "stream",
     "text": [
      "country              0.000000\n",
      "year                 0.000000\n",
      "region               0.000000\n",
      "protest              0.000000\n",
      "startday             0.111169\n",
      "startmonth           0.111169\n",
      "startyear            0.111169\n",
      "endday               0.111169\n",
      "endmonth             0.111169\n",
      "endyear              0.111169\n",
      "protesterviolence    0.080898\n",
      "protesterdemand1     0.111228\n",
      "protesterdemand2     0.826363\n",
      "protesterdemand3     0.977661\n",
      "protesterdemand4     0.951531\n",
      "stateresponse1       0.112978\n",
      "stateresponse2       0.831554\n",
      "stateresponse3       0.945757\n",
      "stateresponse4       0.985768\n",
      "stateresponse5       0.950481\n",
      "stateresponse6       0.999067\n",
      "stateresponse7       0.946340\n",
      "dtype: float64\n"
     ]
    }
   ],
   "source": [
    "column_na_proportion = social_movements_df.isna().sum()/len(social_movements_df)\n",
    "print(column_na_proportion)"
   ]
  },
  {
   "cell_type": "markdown",
   "metadata": {},
   "source": [
    "As mentioned in the introduction, my interest in this project is to explore trends in mass mobilizations and try to predict how states respond to them. The calculation for the NaNs proportion shows that some of the variables for state response and protester demands are mostly filled with missing values. However, fortunately, this is only the cases in which the mobilization had more than one demand or the state had more than one response. Because of this, I decided to restrict the sample only to the cases in which the mobilization had one demand and the state had one response to it. The following section deals with the cleaning of NaNs in the variables which are important for the attempt of predicting the state response (i.e., \"stateresponse\", \"protesterdemand\", and \"protesterviolence\"). "
   ]
  },
  {
   "cell_type": "code",
   "execution_count": 569,
   "metadata": {},
   "outputs": [],
   "source": [
    "social_movements_df.dropna(subset = [\"stateresponse1\", \"protesterdemand1\", \"protesterviolence\"], inplace = True)"
   ]
  },
  {
   "cell_type": "code",
   "execution_count": 570,
   "metadata": {},
   "outputs": [
    {
     "name": "stdout",
     "output_type": "stream",
     "text": [
      "country              0.000000\n",
      "year                 0.000000\n",
      "region               0.000000\n",
      "protest              0.000000\n",
      "startday             0.000000\n",
      "startmonth           0.000000\n",
      "startyear            0.000000\n",
      "endday               0.000000\n",
      "endmonth             0.000000\n",
      "endyear              0.000000\n",
      "protesterviolence    0.000000\n",
      "protesterdemand1     0.000000\n",
      "protesterdemand2     0.804971\n",
      "protesterdemand3     0.974882\n",
      "protesterdemand4     0.948777\n",
      "stateresponse1       0.000000\n",
      "stateresponse2       0.810231\n",
      "stateresponse3       0.938848\n",
      "stateresponse4       0.983956\n",
      "stateresponse5       0.947593\n",
      "stateresponse6       0.998948\n",
      "stateresponse7       0.943648\n",
      "dtype: float64\n"
     ]
    }
   ],
   "source": [
    "column_na_proportion = social_movements_df.isna().sum()/len(social_movements_df)\n",
    "print(column_na_proportion)"
   ]
  },
  {
   "cell_type": "markdown",
   "metadata": {},
   "source": [
    "Fortunately, dropping the NaNs for the important variables mentioned above led to a removal of missing values in most of the other variables. However, the variables for additional protester demands and state responses were still high. As clarified before, I decided to restrict the sample only to the cases which show one demand and one response. I opted for this instead of straightforwardly dropping the additional variables because the dataset does not specify if the demands and responses are ordered according to importance or temporal sequence. Therefore, keeping the first demand and the first response of every case regardless of there being additional demands or responses would give us unaccurate information.\n",
    "\n",
    "The following code filters the dataset so that it includes only the cases in which there was only one demand and once response. It then drops the columns with additional demands or response data. Finally, it drops any additional NaN value. "
   ]
  },
  {
   "cell_type": "code",
   "execution_count": 571,
   "metadata": {},
   "outputs": [],
   "source": [
    "social_movements_df = social_movements_df[social_movements_df[\"stateresponse2\"].isna()]\n",
    "social_movements_df = social_movements_df[social_movements_df[\"protesterdemand2\"].isna()]"
   ]
  },
  {
   "cell_type": "code",
   "execution_count": 572,
   "metadata": {},
   "outputs": [],
   "source": [
    "social_movements_df.drop(\n",
    "    [\"protesterdemand2\", \"protesterdemand3\", \"protesterdemand4\", \n",
    "    \"stateresponse2\", \"stateresponse3\", \"stateresponse4\", \n",
    "    \"stateresponse5\", \"stateresponse6\", \"stateresponse7\"], axis = 1, inplace=True)\n",
    "\n",
    "social_movements_df = social_movements_df.dropna()"
   ]
  },
  {
   "cell_type": "markdown",
   "metadata": {},
   "source": [
    "Having cleaned the missing values and the unnecessary columns, I added adequate variables for the logistic regression. First, the variable for protester demands (\"protesterdemands1\") was used to create the variable \"demand_is_economic\". This is coded 1 for the mass mobilizations which were motivated by economic concerns (labor wage dispute, land farm issue, and price increases/tax policy) and 0 when they were motivated by political or social issues (police brutality, removal of politician, political behavior or processes, and social restrictions). \n",
    "\n",
    "The same was done for the variable for state response (\"stateresponse1\"). In this case, the new variable indicates whether the state made use of force in its response to the mobilization. Therefore, it is coded 1 for forceful responses (crowd dispersion, arrest, shooting, and killing) and 0 for pacific responses (ignore, or accomodation). This is stored under the \"response_use_force\" variable. "
   ]
  },
  {
   "cell_type": "code",
   "execution_count": 573,
   "metadata": {},
   "outputs": [
    {
     "data": {
      "text/html": [
       "<div>\n",
       "<style scoped>\n",
       "    .dataframe tbody tr th:only-of-type {\n",
       "        vertical-align: middle;\n",
       "    }\n",
       "\n",
       "    .dataframe tbody tr th {\n",
       "        vertical-align: top;\n",
       "    }\n",
       "\n",
       "    .dataframe thead th {\n",
       "        text-align: right;\n",
       "    }\n",
       "</style>\n",
       "<table border=\"1\" class=\"dataframe\">\n",
       "  <thead>\n",
       "    <tr style=\"text-align: right;\">\n",
       "      <th></th>\n",
       "      <th>country</th>\n",
       "      <th>year</th>\n",
       "      <th>region</th>\n",
       "      <th>protest</th>\n",
       "      <th>startday</th>\n",
       "      <th>startmonth</th>\n",
       "      <th>startyear</th>\n",
       "      <th>endday</th>\n",
       "      <th>endmonth</th>\n",
       "      <th>endyear</th>\n",
       "      <th>protesterviolence</th>\n",
       "      <th>protesterdemand1</th>\n",
       "      <th>stateresponse1</th>\n",
       "      <th>demand_is_economic</th>\n",
       "      <th>response_use_force</th>\n",
       "    </tr>\n",
       "  </thead>\n",
       "  <tbody>\n",
       "    <tr>\n",
       "      <th>1</th>\n",
       "      <td>Canada</td>\n",
       "      <td>1990</td>\n",
       "      <td>North America</td>\n",
       "      <td>1</td>\n",
       "      <td>25.0</td>\n",
       "      <td>6.0</td>\n",
       "      <td>1990.0</td>\n",
       "      <td>25.0</td>\n",
       "      <td>6.0</td>\n",
       "      <td>1990.0</td>\n",
       "      <td>0.0</td>\n",
       "      <td>political behavior, process</td>\n",
       "      <td>ignore</td>\n",
       "      <td>0</td>\n",
       "      <td>0</td>\n",
       "    </tr>\n",
       "    <tr>\n",
       "      <th>2</th>\n",
       "      <td>Canada</td>\n",
       "      <td>1990</td>\n",
       "      <td>North America</td>\n",
       "      <td>1</td>\n",
       "      <td>1.0</td>\n",
       "      <td>7.0</td>\n",
       "      <td>1990.0</td>\n",
       "      <td>1.0</td>\n",
       "      <td>7.0</td>\n",
       "      <td>1990.0</td>\n",
       "      <td>0.0</td>\n",
       "      <td>political behavior, process</td>\n",
       "      <td>ignore</td>\n",
       "      <td>0</td>\n",
       "      <td>0</td>\n",
       "    </tr>\n",
       "    <tr>\n",
       "      <th>3</th>\n",
       "      <td>Canada</td>\n",
       "      <td>1990</td>\n",
       "      <td>North America</td>\n",
       "      <td>1</td>\n",
       "      <td>12.0</td>\n",
       "      <td>7.0</td>\n",
       "      <td>1990.0</td>\n",
       "      <td>6.0</td>\n",
       "      <td>9.0</td>\n",
       "      <td>1990.0</td>\n",
       "      <td>1.0</td>\n",
       "      <td>land farm issue</td>\n",
       "      <td>accomodation</td>\n",
       "      <td>1</td>\n",
       "      <td>0</td>\n",
       "    </tr>\n",
       "    <tr>\n",
       "      <th>6</th>\n",
       "      <td>Canada</td>\n",
       "      <td>1991</td>\n",
       "      <td>North America</td>\n",
       "      <td>1</td>\n",
       "      <td>10.0</td>\n",
       "      <td>9.0</td>\n",
       "      <td>1991.0</td>\n",
       "      <td>17.0</td>\n",
       "      <td>9.0</td>\n",
       "      <td>1991.0</td>\n",
       "      <td>0.0</td>\n",
       "      <td>labor wage dispute</td>\n",
       "      <td>ignore</td>\n",
       "      <td>1</td>\n",
       "      <td>0</td>\n",
       "    </tr>\n",
       "    <tr>\n",
       "      <th>7</th>\n",
       "      <td>Canada</td>\n",
       "      <td>1991</td>\n",
       "      <td>North America</td>\n",
       "      <td>1</td>\n",
       "      <td>28.0</td>\n",
       "      <td>9.0</td>\n",
       "      <td>1991.0</td>\n",
       "      <td>2.0</td>\n",
       "      <td>10.0</td>\n",
       "      <td>1991.0</td>\n",
       "      <td>0.0</td>\n",
       "      <td>labor wage dispute</td>\n",
       "      <td>ignore</td>\n",
       "      <td>1</td>\n",
       "      <td>0</td>\n",
       "    </tr>\n",
       "  </tbody>\n",
       "</table>\n",
       "</div>"
      ],
      "text/plain": [
       "  country  year         region  protest  startday  startmonth  startyear  \\\n",
       "1  Canada  1990  North America        1      25.0         6.0     1990.0   \n",
       "2  Canada  1990  North America        1       1.0         7.0     1990.0   \n",
       "3  Canada  1990  North America        1      12.0         7.0     1990.0   \n",
       "6  Canada  1991  North America        1      10.0         9.0     1991.0   \n",
       "7  Canada  1991  North America        1      28.0         9.0     1991.0   \n",
       "\n",
       "   endday  endmonth  endyear  protesterviolence             protesterdemand1  \\\n",
       "1    25.0       6.0   1990.0                0.0  political behavior, process   \n",
       "2     1.0       7.0   1990.0                0.0  political behavior, process   \n",
       "3     6.0       9.0   1990.0                1.0              land farm issue   \n",
       "6    17.0       9.0   1991.0                0.0           labor wage dispute   \n",
       "7     2.0      10.0   1991.0                0.0           labor wage dispute   \n",
       "\n",
       "  stateresponse1  demand_is_economic  response_use_force  \n",
       "1         ignore                   0                   0  \n",
       "2         ignore                   0                   0  \n",
       "3   accomodation                   1                   0  \n",
       "6         ignore                   1                   0  \n",
       "7         ignore                   1                   0  "
      ]
     },
     "execution_count": 573,
     "metadata": {},
     "output_type": "execute_result"
    }
   ],
   "source": [
    "demands_mask = social_movements_df[\"protesterdemand1\"].isin([\"labor wage dispute\", \"land farm issue\", \"price increases, tax policy\"])\n",
    "social_movements_df[\"demand_is_economic\"] = np.where(demands_mask, 1, 0)\n",
    "\n",
    "response_mask = social_movements_df[\"stateresponse1\"].isin([\"ignore\", \"accomodation\"])\n",
    "social_movements_df[\"response_use_force\"] = np.where(response_mask, 0, 1)\n",
    "\n",
    "social_movements_df.head()"
   ]
  },
  {
   "cell_type": "markdown",
   "metadata": {},
   "source": [
    "In addition to those two new variables, the data about the start and end of the mobilizations also needed formatting. The original dataset had the year, the month, and the date in three different columns. Using those, I converted the start date and the end date of each mobilization to a single datetime object. This made it easier to calculate the duration of each mobilization. The following code does the transformation to the datetime object and then adds them under the \"start_date\" and \"end_date\" variables. The duration of each mobilization was also calculated and added under the \"mobilization_duration\" variable. "
   ]
  },
  {
   "cell_type": "code",
   "execution_count": 574,
   "metadata": {},
   "outputs": [
    {
     "data": {
      "text/html": [
       "<div>\n",
       "<style scoped>\n",
       "    .dataframe tbody tr th:only-of-type {\n",
       "        vertical-align: middle;\n",
       "    }\n",
       "\n",
       "    .dataframe tbody tr th {\n",
       "        vertical-align: top;\n",
       "    }\n",
       "\n",
       "    .dataframe thead th {\n",
       "        text-align: right;\n",
       "    }\n",
       "</style>\n",
       "<table border=\"1\" class=\"dataframe\">\n",
       "  <thead>\n",
       "    <tr style=\"text-align: right;\">\n",
       "      <th></th>\n",
       "      <th>country</th>\n",
       "      <th>year</th>\n",
       "      <th>region</th>\n",
       "      <th>protest</th>\n",
       "      <th>startday</th>\n",
       "      <th>startmonth</th>\n",
       "      <th>startyear</th>\n",
       "      <th>endday</th>\n",
       "      <th>endmonth</th>\n",
       "      <th>endyear</th>\n",
       "      <th>protesterviolence</th>\n",
       "      <th>protesterdemand1</th>\n",
       "      <th>stateresponse1</th>\n",
       "      <th>demand_is_economic</th>\n",
       "      <th>response_use_force</th>\n",
       "      <th>start_date</th>\n",
       "      <th>end_date</th>\n",
       "    </tr>\n",
       "  </thead>\n",
       "  <tbody>\n",
       "    <tr>\n",
       "      <th>1</th>\n",
       "      <td>Canada</td>\n",
       "      <td>1990</td>\n",
       "      <td>North America</td>\n",
       "      <td>1</td>\n",
       "      <td>25.0</td>\n",
       "      <td>6.0</td>\n",
       "      <td>1990.0</td>\n",
       "      <td>25.0</td>\n",
       "      <td>6.0</td>\n",
       "      <td>1990.0</td>\n",
       "      <td>0.0</td>\n",
       "      <td>political behavior, process</td>\n",
       "      <td>ignore</td>\n",
       "      <td>0</td>\n",
       "      <td>0</td>\n",
       "      <td>1990-06-25</td>\n",
       "      <td>1990-06-25</td>\n",
       "    </tr>\n",
       "    <tr>\n",
       "      <th>2</th>\n",
       "      <td>Canada</td>\n",
       "      <td>1990</td>\n",
       "      <td>North America</td>\n",
       "      <td>1</td>\n",
       "      <td>1.0</td>\n",
       "      <td>7.0</td>\n",
       "      <td>1990.0</td>\n",
       "      <td>1.0</td>\n",
       "      <td>7.0</td>\n",
       "      <td>1990.0</td>\n",
       "      <td>0.0</td>\n",
       "      <td>political behavior, process</td>\n",
       "      <td>ignore</td>\n",
       "      <td>0</td>\n",
       "      <td>0</td>\n",
       "      <td>1990-07-01</td>\n",
       "      <td>1990-07-01</td>\n",
       "    </tr>\n",
       "    <tr>\n",
       "      <th>3</th>\n",
       "      <td>Canada</td>\n",
       "      <td>1990</td>\n",
       "      <td>North America</td>\n",
       "      <td>1</td>\n",
       "      <td>12.0</td>\n",
       "      <td>7.0</td>\n",
       "      <td>1990.0</td>\n",
       "      <td>6.0</td>\n",
       "      <td>9.0</td>\n",
       "      <td>1990.0</td>\n",
       "      <td>1.0</td>\n",
       "      <td>land farm issue</td>\n",
       "      <td>accomodation</td>\n",
       "      <td>1</td>\n",
       "      <td>0</td>\n",
       "      <td>1990-07-12</td>\n",
       "      <td>1990-09-06</td>\n",
       "    </tr>\n",
       "    <tr>\n",
       "      <th>6</th>\n",
       "      <td>Canada</td>\n",
       "      <td>1991</td>\n",
       "      <td>North America</td>\n",
       "      <td>1</td>\n",
       "      <td>10.0</td>\n",
       "      <td>9.0</td>\n",
       "      <td>1991.0</td>\n",
       "      <td>17.0</td>\n",
       "      <td>9.0</td>\n",
       "      <td>1991.0</td>\n",
       "      <td>0.0</td>\n",
       "      <td>labor wage dispute</td>\n",
       "      <td>ignore</td>\n",
       "      <td>1</td>\n",
       "      <td>0</td>\n",
       "      <td>1991-09-10</td>\n",
       "      <td>1991-09-17</td>\n",
       "    </tr>\n",
       "    <tr>\n",
       "      <th>7</th>\n",
       "      <td>Canada</td>\n",
       "      <td>1991</td>\n",
       "      <td>North America</td>\n",
       "      <td>1</td>\n",
       "      <td>28.0</td>\n",
       "      <td>9.0</td>\n",
       "      <td>1991.0</td>\n",
       "      <td>2.0</td>\n",
       "      <td>10.0</td>\n",
       "      <td>1991.0</td>\n",
       "      <td>0.0</td>\n",
       "      <td>labor wage dispute</td>\n",
       "      <td>ignore</td>\n",
       "      <td>1</td>\n",
       "      <td>0</td>\n",
       "      <td>1991-09-28</td>\n",
       "      <td>1991-10-02</td>\n",
       "    </tr>\n",
       "  </tbody>\n",
       "</table>\n",
       "</div>"
      ],
      "text/plain": [
       "  country  year         region  protest  startday  startmonth  startyear  \\\n",
       "1  Canada  1990  North America        1      25.0         6.0     1990.0   \n",
       "2  Canada  1990  North America        1       1.0         7.0     1990.0   \n",
       "3  Canada  1990  North America        1      12.0         7.0     1990.0   \n",
       "6  Canada  1991  North America        1      10.0         9.0     1991.0   \n",
       "7  Canada  1991  North America        1      28.0         9.0     1991.0   \n",
       "\n",
       "   endday  endmonth  endyear  protesterviolence             protesterdemand1  \\\n",
       "1    25.0       6.0   1990.0                0.0  political behavior, process   \n",
       "2     1.0       7.0   1990.0                0.0  political behavior, process   \n",
       "3     6.0       9.0   1990.0                1.0              land farm issue   \n",
       "6    17.0       9.0   1991.0                0.0           labor wage dispute   \n",
       "7     2.0      10.0   1991.0                0.0           labor wage dispute   \n",
       "\n",
       "  stateresponse1  demand_is_economic  response_use_force start_date   end_date  \n",
       "1         ignore                   0                   0 1990-06-25 1990-06-25  \n",
       "2         ignore                   0                   0 1990-07-01 1990-07-01  \n",
       "3   accomodation                   1                   0 1990-07-12 1990-09-06  \n",
       "6         ignore                   1                   0 1991-09-10 1991-09-17  \n",
       "7         ignore                   1                   0 1991-09-28 1991-10-02  "
      ]
     },
     "execution_count": 574,
     "metadata": {},
     "output_type": "execute_result"
    }
   ],
   "source": [
    "social_movements_startdate = social_movements_df[[\"startday\", \"startmonth\", \"startyear\"]].astype(int).copy()\n",
    "social_movements_startdate.columns = [\"day\", \"month\", \"year\"]\n",
    "social_movements_df[\"start_date\"] = pd.to_datetime(social_movements_startdate)\n",
    "\n",
    "social_movements_enddate = social_movements_df[[\"endday\", \"endmonth\", \"endyear\"]].astype(int).copy()\n",
    "social_movements_enddate.columns = [\"day\", \"month\", \"year\"]\n",
    "social_movements_df[\"end_date\"] = pd.to_datetime(social_movements_enddate)\n",
    "\n",
    "social_movements_df.head()\n"
   ]
  },
  {
   "cell_type": "code",
   "execution_count": 575,
   "metadata": {},
   "outputs": [],
   "source": [
    "social_movements_df = social_movements_df.reset_index(drop=True)\n",
    "mobilization_duration = [(social_movements_df[\"end_date\"][i] - social_movements_df[\"start_date\"][i]).days for i in range(len(social_movements_df))]\n",
    "social_movements_df[\"mobilization_duration\"] = mobilization_duration\n"
   ]
  },
  {
   "cell_type": "markdown",
   "metadata": {},
   "source": [
    "Then, for it to be uniform, I converted the floats in \"protesterviolence\" to integers. "
   ]
  },
  {
   "cell_type": "code",
   "execution_count": 578,
   "metadata": {},
   "outputs": [],
   "source": [
    "protester_violence_int = [int(social_movements_df[\"protesterviolence\"][i]) for i in range(len(social_movements_df))]\n",
    "social_movements_df[\"protesterviolence\"] = protester_violence_int"
   ]
  },
  {
   "cell_type": "markdown",
   "metadata": {},
   "source": [
    "Finally, I renamed and reordered the columns."
   ]
  },
  {
   "cell_type": "code",
   "execution_count": 579,
   "metadata": {},
   "outputs": [],
   "source": [
    "social_movements_df = social_movements_df[[\"country\", \"year\", \"region\", \"start_date\", \"end_date\", \"mobilization_duration\", \"protest\", \"protesterviolence\", \"protesterdemand1\", \"demand_is_economic\", \"stateresponse1\", \"response_use_force\"]]\n",
    "social_movements_df.columns = [\"country\", \"year\", \"region\", \"start_date\", \"end_date\", \"mobilization_duration\", \"protest\", \"protester_violence\", \"protester_demand\", \"economic_demand\", \"state_response\", \"response_use_force\"]"
   ]
  },
  {
   "cell_type": "code",
   "execution_count": 580,
   "metadata": {},
   "outputs": [
    {
     "data": {
      "text/html": [
       "<div>\n",
       "<style scoped>\n",
       "    .dataframe tbody tr th:only-of-type {\n",
       "        vertical-align: middle;\n",
       "    }\n",
       "\n",
       "    .dataframe tbody tr th {\n",
       "        vertical-align: top;\n",
       "    }\n",
       "\n",
       "    .dataframe thead th {\n",
       "        text-align: right;\n",
       "    }\n",
       "</style>\n",
       "<table border=\"1\" class=\"dataframe\">\n",
       "  <thead>\n",
       "    <tr style=\"text-align: right;\">\n",
       "      <th></th>\n",
       "      <th>country</th>\n",
       "      <th>year</th>\n",
       "      <th>region</th>\n",
       "      <th>start_date</th>\n",
       "      <th>end_date</th>\n",
       "      <th>mobilization_duration</th>\n",
       "      <th>protest</th>\n",
       "      <th>protester_violence</th>\n",
       "      <th>protester_demand</th>\n",
       "      <th>economic_demand</th>\n",
       "      <th>state_response</th>\n",
       "      <th>response_use_force</th>\n",
       "    </tr>\n",
       "  </thead>\n",
       "  <tbody>\n",
       "    <tr>\n",
       "      <th>0</th>\n",
       "      <td>Canada</td>\n",
       "      <td>1990</td>\n",
       "      <td>North America</td>\n",
       "      <td>1990-06-25</td>\n",
       "      <td>1990-06-25</td>\n",
       "      <td>0</td>\n",
       "      <td>1</td>\n",
       "      <td>0</td>\n",
       "      <td>political behavior, process</td>\n",
       "      <td>0</td>\n",
       "      <td>ignore</td>\n",
       "      <td>0</td>\n",
       "    </tr>\n",
       "    <tr>\n",
       "      <th>1</th>\n",
       "      <td>Canada</td>\n",
       "      <td>1990</td>\n",
       "      <td>North America</td>\n",
       "      <td>1990-07-01</td>\n",
       "      <td>1990-07-01</td>\n",
       "      <td>0</td>\n",
       "      <td>1</td>\n",
       "      <td>0</td>\n",
       "      <td>political behavior, process</td>\n",
       "      <td>0</td>\n",
       "      <td>ignore</td>\n",
       "      <td>0</td>\n",
       "    </tr>\n",
       "    <tr>\n",
       "      <th>2</th>\n",
       "      <td>Canada</td>\n",
       "      <td>1990</td>\n",
       "      <td>North America</td>\n",
       "      <td>1990-07-12</td>\n",
       "      <td>1990-09-06</td>\n",
       "      <td>56</td>\n",
       "      <td>1</td>\n",
       "      <td>1</td>\n",
       "      <td>land farm issue</td>\n",
       "      <td>1</td>\n",
       "      <td>accomodation</td>\n",
       "      <td>0</td>\n",
       "    </tr>\n",
       "    <tr>\n",
       "      <th>3</th>\n",
       "      <td>Canada</td>\n",
       "      <td>1991</td>\n",
       "      <td>North America</td>\n",
       "      <td>1991-09-10</td>\n",
       "      <td>1991-09-17</td>\n",
       "      <td>7</td>\n",
       "      <td>1</td>\n",
       "      <td>0</td>\n",
       "      <td>labor wage dispute</td>\n",
       "      <td>1</td>\n",
       "      <td>ignore</td>\n",
       "      <td>0</td>\n",
       "    </tr>\n",
       "    <tr>\n",
       "      <th>4</th>\n",
       "      <td>Canada</td>\n",
       "      <td>1991</td>\n",
       "      <td>North America</td>\n",
       "      <td>1991-09-28</td>\n",
       "      <td>1991-10-02</td>\n",
       "      <td>4</td>\n",
       "      <td>1</td>\n",
       "      <td>0</td>\n",
       "      <td>labor wage dispute</td>\n",
       "      <td>1</td>\n",
       "      <td>ignore</td>\n",
       "      <td>0</td>\n",
       "    </tr>\n",
       "    <tr>\n",
       "      <th>5</th>\n",
       "      <td>Canada</td>\n",
       "      <td>1992</td>\n",
       "      <td>North America</td>\n",
       "      <td>1992-05-04</td>\n",
       "      <td>1992-05-05</td>\n",
       "      <td>1</td>\n",
       "      <td>1</td>\n",
       "      <td>1</td>\n",
       "      <td>police brutality</td>\n",
       "      <td>0</td>\n",
       "      <td>arrests</td>\n",
       "      <td>1</td>\n",
       "    </tr>\n",
       "    <tr>\n",
       "      <th>6</th>\n",
       "      <td>Canada</td>\n",
       "      <td>1993</td>\n",
       "      <td>North America</td>\n",
       "      <td>1993-05-16</td>\n",
       "      <td>1993-05-16</td>\n",
       "      <td>0</td>\n",
       "      <td>1</td>\n",
       "      <td>0</td>\n",
       "      <td>political behavior, process</td>\n",
       "      <td>0</td>\n",
       "      <td>ignore</td>\n",
       "      <td>0</td>\n",
       "    </tr>\n",
       "    <tr>\n",
       "      <th>7</th>\n",
       "      <td>Canada</td>\n",
       "      <td>1993</td>\n",
       "      <td>North America</td>\n",
       "      <td>1993-07-01</td>\n",
       "      <td>1993-08-31</td>\n",
       "      <td>61</td>\n",
       "      <td>1</td>\n",
       "      <td>0</td>\n",
       "      <td>political behavior, process</td>\n",
       "      <td>0</td>\n",
       "      <td>arrests</td>\n",
       "      <td>1</td>\n",
       "    </tr>\n",
       "    <tr>\n",
       "      <th>8</th>\n",
       "      <td>Canada</td>\n",
       "      <td>1994</td>\n",
       "      <td>North America</td>\n",
       "      <td>1994-09-01</td>\n",
       "      <td>1994-09-01</td>\n",
       "      <td>0</td>\n",
       "      <td>1</td>\n",
       "      <td>0</td>\n",
       "      <td>political behavior, process</td>\n",
       "      <td>0</td>\n",
       "      <td>ignore</td>\n",
       "      <td>0</td>\n",
       "    </tr>\n",
       "    <tr>\n",
       "      <th>9</th>\n",
       "      <td>Canada</td>\n",
       "      <td>1994</td>\n",
       "      <td>North America</td>\n",
       "      <td>1994-11-18</td>\n",
       "      <td>1994-11-18</td>\n",
       "      <td>0</td>\n",
       "      <td>1</td>\n",
       "      <td>0</td>\n",
       "      <td>price increases, tax policy</td>\n",
       "      <td>1</td>\n",
       "      <td>ignore</td>\n",
       "      <td>0</td>\n",
       "    </tr>\n",
       "    <tr>\n",
       "      <th>10</th>\n",
       "      <td>Canada</td>\n",
       "      <td>1995</td>\n",
       "      <td>North America</td>\n",
       "      <td>1995-02-20</td>\n",
       "      <td>1995-02-20</td>\n",
       "      <td>0</td>\n",
       "      <td>1</td>\n",
       "      <td>0</td>\n",
       "      <td>price increases, tax policy</td>\n",
       "      <td>1</td>\n",
       "      <td>ignore</td>\n",
       "      <td>0</td>\n",
       "    </tr>\n",
       "    <tr>\n",
       "      <th>11</th>\n",
       "      <td>Canada</td>\n",
       "      <td>1996</td>\n",
       "      <td>North America</td>\n",
       "      <td>1996-10-26</td>\n",
       "      <td>1996-10-26</td>\n",
       "      <td>0</td>\n",
       "      <td>1</td>\n",
       "      <td>0</td>\n",
       "      <td>price increases, tax policy</td>\n",
       "      <td>1</td>\n",
       "      <td>ignore</td>\n",
       "      <td>0</td>\n",
       "    </tr>\n",
       "    <tr>\n",
       "      <th>12</th>\n",
       "      <td>Canada</td>\n",
       "      <td>1997</td>\n",
       "      <td>North America</td>\n",
       "      <td>1997-11-19</td>\n",
       "      <td>1997-12-04</td>\n",
       "      <td>15</td>\n",
       "      <td>1</td>\n",
       "      <td>0</td>\n",
       "      <td>labor wage dispute</td>\n",
       "      <td>1</td>\n",
       "      <td>ignore</td>\n",
       "      <td>0</td>\n",
       "    </tr>\n",
       "    <tr>\n",
       "      <th>13</th>\n",
       "      <td>Canada</td>\n",
       "      <td>2000</td>\n",
       "      <td>North America</td>\n",
       "      <td>2000-02-22</td>\n",
       "      <td>2000-02-23</td>\n",
       "      <td>1</td>\n",
       "      <td>1</td>\n",
       "      <td>1</td>\n",
       "      <td>political behavior, process</td>\n",
       "      <td>0</td>\n",
       "      <td>ignore</td>\n",
       "      <td>0</td>\n",
       "    </tr>\n",
       "    <tr>\n",
       "      <th>14</th>\n",
       "      <td>Canada</td>\n",
       "      <td>2000</td>\n",
       "      <td>North America</td>\n",
       "      <td>2000-02-26</td>\n",
       "      <td>2000-02-26</td>\n",
       "      <td>0</td>\n",
       "      <td>1</td>\n",
       "      <td>0</td>\n",
       "      <td>police brutality</td>\n",
       "      <td>0</td>\n",
       "      <td>accomodation</td>\n",
       "      <td>0</td>\n",
       "    </tr>\n",
       "    <tr>\n",
       "      <th>15</th>\n",
       "      <td>Canada</td>\n",
       "      <td>2000</td>\n",
       "      <td>North America</td>\n",
       "      <td>2000-05-09</td>\n",
       "      <td>2000-05-09</td>\n",
       "      <td>0</td>\n",
       "      <td>1</td>\n",
       "      <td>0</td>\n",
       "      <td>political behavior, process</td>\n",
       "      <td>0</td>\n",
       "      <td>ignore</td>\n",
       "      <td>0</td>\n",
       "    </tr>\n",
       "    <tr>\n",
       "      <th>16</th>\n",
       "      <td>Canada</td>\n",
       "      <td>2003</td>\n",
       "      <td>North America</td>\n",
       "      <td>2003-05-03</td>\n",
       "      <td>2003-05-03</td>\n",
       "      <td>0</td>\n",
       "      <td>1</td>\n",
       "      <td>1</td>\n",
       "      <td>political behavior, process</td>\n",
       "      <td>0</td>\n",
       "      <td>ignore</td>\n",
       "      <td>0</td>\n",
       "    </tr>\n",
       "    <tr>\n",
       "      <th>17</th>\n",
       "      <td>Canada</td>\n",
       "      <td>2005</td>\n",
       "      <td>North America</td>\n",
       "      <td>2005-03-03</td>\n",
       "      <td>2005-04-03</td>\n",
       "      <td>31</td>\n",
       "      <td>1</td>\n",
       "      <td>1</td>\n",
       "      <td>political behavior, process</td>\n",
       "      <td>0</td>\n",
       "      <td>arrests</td>\n",
       "      <td>1</td>\n",
       "    </tr>\n",
       "    <tr>\n",
       "      <th>18</th>\n",
       "      <td>Canada</td>\n",
       "      <td>2005</td>\n",
       "      <td>North America</td>\n",
       "      <td>2005-09-10</td>\n",
       "      <td>2005-09-10</td>\n",
       "      <td>0</td>\n",
       "      <td>1</td>\n",
       "      <td>0</td>\n",
       "      <td>political behavior, process</td>\n",
       "      <td>0</td>\n",
       "      <td>ignore</td>\n",
       "      <td>0</td>\n",
       "    </tr>\n",
       "    <tr>\n",
       "      <th>19</th>\n",
       "      <td>Canada</td>\n",
       "      <td>2007</td>\n",
       "      <td>North America</td>\n",
       "      <td>2007-06-29</td>\n",
       "      <td>2007-06-29</td>\n",
       "      <td>0</td>\n",
       "      <td>1</td>\n",
       "      <td>0</td>\n",
       "      <td>political behavior, process</td>\n",
       "      <td>0</td>\n",
       "      <td>ignore</td>\n",
       "      <td>0</td>\n",
       "    </tr>\n",
       "  </tbody>\n",
       "</table>\n",
       "</div>"
      ],
      "text/plain": [
       "   country  year         region start_date   end_date  mobilization_duration  \\\n",
       "0   Canada  1990  North America 1990-06-25 1990-06-25                      0   \n",
       "1   Canada  1990  North America 1990-07-01 1990-07-01                      0   \n",
       "2   Canada  1990  North America 1990-07-12 1990-09-06                     56   \n",
       "3   Canada  1991  North America 1991-09-10 1991-09-17                      7   \n",
       "4   Canada  1991  North America 1991-09-28 1991-10-02                      4   \n",
       "5   Canada  1992  North America 1992-05-04 1992-05-05                      1   \n",
       "6   Canada  1993  North America 1993-05-16 1993-05-16                      0   \n",
       "7   Canada  1993  North America 1993-07-01 1993-08-31                     61   \n",
       "8   Canada  1994  North America 1994-09-01 1994-09-01                      0   \n",
       "9   Canada  1994  North America 1994-11-18 1994-11-18                      0   \n",
       "10  Canada  1995  North America 1995-02-20 1995-02-20                      0   \n",
       "11  Canada  1996  North America 1996-10-26 1996-10-26                      0   \n",
       "12  Canada  1997  North America 1997-11-19 1997-12-04                     15   \n",
       "13  Canada  2000  North America 2000-02-22 2000-02-23                      1   \n",
       "14  Canada  2000  North America 2000-02-26 2000-02-26                      0   \n",
       "15  Canada  2000  North America 2000-05-09 2000-05-09                      0   \n",
       "16  Canada  2003  North America 2003-05-03 2003-05-03                      0   \n",
       "17  Canada  2005  North America 2005-03-03 2005-04-03                     31   \n",
       "18  Canada  2005  North America 2005-09-10 2005-09-10                      0   \n",
       "19  Canada  2007  North America 2007-06-29 2007-06-29                      0   \n",
       "\n",
       "    protest  protester_violence             protester_demand  economic_demand  \\\n",
       "0         1                   0  political behavior, process                0   \n",
       "1         1                   0  political behavior, process                0   \n",
       "2         1                   1              land farm issue                1   \n",
       "3         1                   0           labor wage dispute                1   \n",
       "4         1                   0           labor wage dispute                1   \n",
       "5         1                   1             police brutality                0   \n",
       "6         1                   0  political behavior, process                0   \n",
       "7         1                   0  political behavior, process                0   \n",
       "8         1                   0  political behavior, process                0   \n",
       "9         1                   0  price increases, tax policy                1   \n",
       "10        1                   0  price increases, tax policy                1   \n",
       "11        1                   0  price increases, tax policy                1   \n",
       "12        1                   0           labor wage dispute                1   \n",
       "13        1                   1  political behavior, process                0   \n",
       "14        1                   0             police brutality                0   \n",
       "15        1                   0  political behavior, process                0   \n",
       "16        1                   1  political behavior, process                0   \n",
       "17        1                   1  political behavior, process                0   \n",
       "18        1                   0  political behavior, process                0   \n",
       "19        1                   0  political behavior, process                0   \n",
       "\n",
       "   state_response  response_use_force  \n",
       "0          ignore                   0  \n",
       "1          ignore                   0  \n",
       "2    accomodation                   0  \n",
       "3          ignore                   0  \n",
       "4          ignore                   0  \n",
       "5         arrests                   1  \n",
       "6          ignore                   0  \n",
       "7         arrests                   1  \n",
       "8          ignore                   0  \n",
       "9          ignore                   0  \n",
       "10         ignore                   0  \n",
       "11         ignore                   0  \n",
       "12         ignore                   0  \n",
       "13         ignore                   0  \n",
       "14   accomodation                   0  \n",
       "15         ignore                   0  \n",
       "16         ignore                   0  \n",
       "17        arrests                   1  \n",
       "18         ignore                   0  \n",
       "19         ignore                   0  "
      ]
     },
     "execution_count": 580,
     "metadata": {},
     "output_type": "execute_result"
    }
   ],
   "source": [
    "social_movements_df.head(20)"
   ]
  },
  {
   "cell_type": "markdown",
   "metadata": {},
   "source": [
    "## 3. Exploring The Dataset"
   ]
  },
  {
   "cell_type": "markdown",
   "metadata": {},
   "source": [
    "After the data cleaning process, I started working on the first objective of this project, that is, to explore the data in the search for trends in mass mobilizations and state responses to them. Therefore, this section contains calculations and figures that provide a better picture of the variables of interest. First, I did this with all the data; then, I explored the differences per region. "
   ]
  },
  {
   "cell_type": "markdown",
   "metadata": {},
   "source": [
    "### 3.1 Complete Data\n",
    "#### 3.1.1 Protesters' Demands and Behavior"
   ]
  },
  {
   "cell_type": "markdown",
   "metadata": {},
   "source": [
    "This first section explores the trends that can be found in mass mobilizations. Therefore, it includes some descriptive statistics about the duration, the violence, and the demands of the mobilizations."
   ]
  },
  {
   "cell_type": "code",
   "execution_count": null,
   "metadata": {},
   "outputs": [
    {
     "data": {
      "text/plain": [
       "protester_demand\n",
       "labor wage dispute             1177\n",
       "land farm issue                 304\n",
       "police brutality                481\n",
       "political behavior, process    6549\n",
       "price increases, tax policy     615\n",
       "removal of politician           583\n",
       "social restrictions             338\n",
       "dtype: int64"
      ]
     },
     "execution_count": 484,
     "metadata": {},
     "output_type": "execute_result"
    }
   ],
   "source": [
    "social_movements_df.groupby(\"protester_demand\").size()"
   ]
  },
  {
   "cell_type": "code",
   "execution_count": null,
   "metadata": {},
   "outputs": [
    {
     "data": {
      "image/png": "[encoded data removed]",
      "text/plain": [
       "<Figure size 864x504 with 1 Axes>"
      ]
     },
     "metadata": {
      "needs_background": "light"
     },
     "output_type": "display_data"
    }
   ],
   "source": [
    "plt.figure(figsize = (12,7))\n",
    "\n",
    "sns.countplot(x = social_movements_df[\"protester_demand\"])\n",
    "plt.xticks(rotation = 45);\n",
    "plt.title(\"Frequency of Protester Demands\", fontdict = {\"fontsize\" : 20})\n",
    "plt.xlabel(\"Protester demand\")\n",
    "plt.ylabel(\"Frequency\");"
   ]
  },
  {
   "cell_type": "code",
   "execution_count": null,
   "metadata": {},
   "outputs": [
    {
     "data": {
      "text/plain": [
       "<AxesSubplot:ylabel='None'>"
      ]
     },
     "execution_count": 486,
     "metadata": {},
     "output_type": "execute_result"
    },
    {
     "data": {
      "image/png": "[encoded data removed]",
      "text/plain": [
       "<Figure size 432x288 with 1 Axes>"
      ]
     },
     "metadata": {},
     "output_type": "display_data"
    }
   ],
   "source": [
    "social_movements_df.groupby(\"economical_demand\").size().plot(kind = \"pie\", autopct = \"%.2f\")"
   ]
  },
  {
   "cell_type": "code",
   "execution_count": null,
   "metadata": {},
   "outputs": [
    {
     "data": {
      "text/plain": [
       "protester_demand\n",
       "labor wage dispute             2.528462\n",
       "land farm issue                4.523026\n",
       "police brutality               0.613306\n",
       "political behavior, process    0.711712\n",
       "price increases, tax policy    0.682927\n",
       "removal of politician          0.487136\n",
       "social restrictions            0.727811\n",
       "Name: movement_duration, dtype: float64"
      ]
     },
     "execution_count": 487,
     "metadata": {},
     "output_type": "execute_result"
    }
   ],
   "source": [
    "social_movements_df.groupby(\"protester_demand\")[\"movement_duration\"].mean()"
   ]
  },
  {
   "cell_type": "markdown",
   "metadata": {},
   "source": [
    "#### 3.1.2 State Response"
   ]
  },
  {
   "cell_type": "code",
   "execution_count": null,
   "metadata": {},
   "outputs": [],
   "source": []
  },
  {
   "cell_type": "code",
   "execution_count": null,
   "metadata": {},
   "outputs": [
    {
     "data": {
      "text/plain": [
       "state_response\n",
       "accomodation        744\n",
       "arrests             558\n",
       "beatings            120\n",
       "crowd dispersal    1875\n",
       "ignore             6538\n",
       "killings            109\n",
       "shootings           103\n",
       "dtype: int64"
      ]
     },
     "execution_count": 488,
     "metadata": {},
     "output_type": "execute_result"
    }
   ],
   "source": [
    "social_movements_df.groupby(\"state_response\").size()"
   ]
  },
  {
   "cell_type": "code",
   "execution_count": null,
   "metadata": {},
   "outputs": [
    {
     "data": {
      "image/png": "[encoded data removed]",
      "text/plain": [
       "<Figure size 864x504 with 1 Axes>"
      ]
     },
     "metadata": {
      "needs_background": "light"
     },
     "output_type": "display_data"
    }
   ],
   "source": [
    "plt.figure(figsize = (12,7))\n",
    "\n",
    "sns.countplot(x = social_movements_df[\"state_response\"])\n",
    "plt.xticks(rotation = 45);\n",
    "plt.title(\"Frequency per Type of State Response\", fontdict = {\"fontsize\" : 20})\n",
    "plt.xlabel(\"Type of State Response\")\n",
    "plt.ylabel(\"Frequency\");"
   ]
  },
  {
   "cell_type": "code",
   "execution_count": null,
   "metadata": {},
   "outputs": [
    {
     "data": {
      "text/plain": [
       "state_response\n",
       "accomodation       4.064516\n",
       "arrests            1.116487\n",
       "beatings           0.425000\n",
       "crowd dispersal    0.640000\n",
       "ignore             0.781279\n",
       "killings           1.091743\n",
       "shootings          1.281553\n",
       "Name: movement_duration, dtype: float64"
      ]
     },
     "execution_count": 490,
     "metadata": {},
     "output_type": "execute_result"
    }
   ],
   "source": [
    "social_movements_df.groupby(\"state_response\")[\"movement_duration\"].mean()"
   ]
  },
  {
   "cell_type": "markdown",
   "metadata": {},
   "source": []
  },
  {
   "cell_type": "code",
   "execution_count": null,
   "metadata": {},
   "outputs": [],
   "source": []
  },
  {
   "cell_type": "code",
   "execution_count": 584,
   "metadata": {},
   "outputs": [
    {
     "ename": "KeyError",
     "evalue": "\"None of ['protestor_violence'] are in the columns\"",
     "output_type": "error",
     "traceback": [
      "\u001b[0;31m---------------------------------------------------------------------------\u001b[0m",
      "\u001b[0;31mKeyError\u001b[0m                                  Traceback (most recent call last)",
      "\u001b[0;32m<ipython-input-584-915572a12257>\u001b[0m in \u001b[0;36m<module>\u001b[0;34m\u001b[0m\n\u001b[0;32m----> 1\u001b[0;31m \u001b[0msocial_movements\u001b[0m \u001b[0;34m=\u001b[0m \u001b[0msocial_movements_df\u001b[0m\u001b[0;34m.\u001b[0m\u001b[0mpivot\u001b[0m\u001b[0;34m(\u001b[0m\u001b[0;34m\"protestor_violence\"\u001b[0m\u001b[0;34m,\u001b[0m \u001b[0;34m\"response_use_force\"\u001b[0m\u001b[0;34m)\u001b[0m\u001b[0;34m\u001b[0m\u001b[0;34m\u001b[0m\u001b[0m\n\u001b[0m\u001b[1;32m      2\u001b[0m \u001b[0max\u001b[0m \u001b[0;34m=\u001b[0m \u001b[0msns\u001b[0m\u001b[0;34m.\u001b[0m\u001b[0mheatmap\u001b[0m\u001b[0;34m(\u001b[0m\u001b[0msocial_movements\u001b[0m\u001b[0;34m)\u001b[0m\u001b[0;34m\u001b[0m\u001b[0;34m\u001b[0m\u001b[0m\n",
      "\u001b[0;32m/opt/anaconda3/lib/python3.8/site-packages/pandas/core/frame.py\u001b[0m in \u001b[0;36mpivot\u001b[0;34m(self, index, columns, values)\u001b[0m\n\u001b[1;32m   6672\u001b[0m         \u001b[0;32mfrom\u001b[0m \u001b[0mpandas\u001b[0m\u001b[0;34m.\u001b[0m\u001b[0mcore\u001b[0m\u001b[0;34m.\u001b[0m\u001b[0mreshape\u001b[0m\u001b[0;34m.\u001b[0m\u001b[0mpivot\u001b[0m \u001b[0;32mimport\u001b[0m \u001b[0mpivot\u001b[0m\u001b[0;34m\u001b[0m\u001b[0;34m\u001b[0m\u001b[0m\n\u001b[1;32m   6673\u001b[0m \u001b[0;34m\u001b[0m\u001b[0m\n\u001b[0;32m-> 6674\u001b[0;31m         \u001b[0;32mreturn\u001b[0m \u001b[0mpivot\u001b[0m\u001b[0;34m(\u001b[0m\u001b[0mself\u001b[0m\u001b[0;34m,\u001b[0m \u001b[0mindex\u001b[0m\u001b[0;34m=\u001b[0m\u001b[0mindex\u001b[0m\u001b[0;34m,\u001b[0m \u001b[0mcolumns\u001b[0m\u001b[0;34m=\u001b[0m\u001b[0mcolumns\u001b[0m\u001b[0;34m,\u001b[0m \u001b[0mvalues\u001b[0m\u001b[0;34m=\u001b[0m\u001b[0mvalues\u001b[0m\u001b[0;34m)\u001b[0m\u001b[0;34m\u001b[0m\u001b[0;34m\u001b[0m\u001b[0m\n\u001b[0m\u001b[1;32m   6675\u001b[0m \u001b[0;34m\u001b[0m\u001b[0m\n\u001b[1;32m   6676\u001b[0m     _shared_docs[\n",
      "\u001b[0;32m/opt/anaconda3/lib/python3.8/site-packages/pandas/core/reshape/pivot.py\u001b[0m in \u001b[0;36mpivot\u001b[0;34m(data, index, columns, values)\u001b[0m\n\u001b[1;32m    455\u001b[0m \u001b[0;34m\u001b[0m\u001b[0m\n\u001b[1;32m    456\u001b[0m         \u001b[0mappend\u001b[0m \u001b[0;34m=\u001b[0m \u001b[0mindex\u001b[0m \u001b[0;32mis\u001b[0m \u001b[0;32mNone\u001b[0m\u001b[0;34m\u001b[0m\u001b[0;34m\u001b[0m\u001b[0m\n\u001b[0;32m--> 457\u001b[0;31m         \u001b[0mindexed\u001b[0m \u001b[0;34m=\u001b[0m \u001b[0mdata\u001b[0m\u001b[0;34m.\u001b[0m\u001b[0mset_index\u001b[0m\u001b[0;34m(\u001b[0m\u001b[0mcols\u001b[0m\u001b[0;34m,\u001b[0m \u001b[0mappend\u001b[0m\u001b[0;34m=\u001b[0m\u001b[0mappend\u001b[0m\u001b[0;34m)\u001b[0m\u001b[0;34m\u001b[0m\u001b[0;34m\u001b[0m\u001b[0m\n\u001b[0m\u001b[1;32m    458\u001b[0m     \u001b[0;32melse\u001b[0m\u001b[0;34m:\u001b[0m\u001b[0;34m\u001b[0m\u001b[0;34m\u001b[0m\u001b[0m\n\u001b[1;32m    459\u001b[0m         \u001b[0;32mif\u001b[0m \u001b[0mindex\u001b[0m \u001b[0;32mis\u001b[0m \u001b[0;32mNone\u001b[0m\u001b[0;34m:\u001b[0m\u001b[0;34m\u001b[0m\u001b[0;34m\u001b[0m\u001b[0m\n",
      "\u001b[0;32m/opt/anaconda3/lib/python3.8/site-packages/pandas/core/frame.py\u001b[0m in \u001b[0;36mset_index\u001b[0;34m(self, keys, drop, append, inplace, verify_integrity)\u001b[0m\n\u001b[1;32m   4549\u001b[0m \u001b[0;34m\u001b[0m\u001b[0m\n\u001b[1;32m   4550\u001b[0m         \u001b[0;32mif\u001b[0m \u001b[0mmissing\u001b[0m\u001b[0;34m:\u001b[0m\u001b[0;34m\u001b[0m\u001b[0;34m\u001b[0m\u001b[0m\n\u001b[0;32m-> 4551\u001b[0;31m             \u001b[0;32mraise\u001b[0m \u001b[0mKeyError\u001b[0m\u001b[0;34m(\u001b[0m\u001b[0;34mf\"None of {missing} are in the columns\"\u001b[0m\u001b[0;34m)\u001b[0m\u001b[0;34m\u001b[0m\u001b[0;34m\u001b[0m\u001b[0m\n\u001b[0m\u001b[1;32m   4552\u001b[0m \u001b[0;34m\u001b[0m\u001b[0m\n\u001b[1;32m   4553\u001b[0m         \u001b[0;32mif\u001b[0m \u001b[0minplace\u001b[0m\u001b[0;34m:\u001b[0m\u001b[0;34m\u001b[0m\u001b[0;34m\u001b[0m\u001b[0m\n",
      "\u001b[0;31mKeyError\u001b[0m: \"None of ['protestor_violence'] are in the columns\""
     ]
    }
   ],
   "source": [
    "social_movements\n",
    "social_movements = social_movements_df.pivot(\"protestor_violence\", \"response_use_force\")\n",
    "ax = sns.heatmap(social_movements)"
   ]
  },
  {
   "cell_type": "code",
   "execution_count": null,
   "metadata": {},
   "outputs": [],
   "source": []
  },
  {
   "cell_type": "markdown",
   "metadata": {},
   "source": [
    "### 3.2 Regional Data"
   ]
  },
  {
   "cell_type": "code",
   "execution_count": null,
   "metadata": {},
   "outputs": [],
   "source": []
  },
  {
   "cell_type": "code",
   "execution_count": null,
   "metadata": {},
   "outputs": [],
   "source": [
    "massmob_per_year_northamerica = social_movements_df[social_movements_df[\"region\"] == \"North America\"].groupby(\"year\").size()\n",
    "massmob_per_year_centralamerica = social_movements_df[social_movements_df[\"region\"] == \"Central America\"].groupby(\"year\").size()\n",
    "massmob_per_year_southamerica = social_movements_df[social_movements_df[\"region\"] == \"South America\"].groupby(\"year\").size()\n",
    "massmob_per_year_europe = social_movements_df[social_movements_df[\"region\"] == \"Europe\"].groupby(\"year\").size()\n",
    "massmob_per_year_asia = social_movements_df[social_movements_df[\"region\"] == \"Asia\"].groupby(\"year\").size()\n",
    "massmob_per_year_mena = social_movements_df[social_movements_df[\"region\"] == \"MENA\"].groupby(\"year\").size()\n",
    "massmob_per_year_africa = social_movements_df[social_movements_df[\"region\"] == \"Africa\"].groupby(\"year\").size()\n"
   ]
  },
  {
   "cell_type": "code",
   "execution_count": null,
   "metadata": {},
   "outputs": [
    {
     "data": {
      "image/png": "[encoded data removed]",
      "text/plain": [
       "<Figure size 864x504 with 1 Axes>"
      ]
     },
     "metadata": {
      "needs_background": "light"
     },
     "output_type": "display_data"
    }
   ],
   "source": [
    "plt.figure(figsize = (12,7))\n",
    "\n",
    "plt.plot(massmob_per_year_northamerica.index, massmob_per_year_northamerica, label = \"North America\")\n",
    "plt.plot(massmob_per_year_centralamerica.index, massmob_per_year_centralamerica, label = \"Central America\")\n",
    "plt.plot(massmob_per_year_southamerica.index, massmob_per_year_southamerica, label = \"South America\")\n",
    "plt.plot(massmob_per_year_europe.index, massmob_per_year_europe, label = \"Europe\")\n",
    "plt.plot(massmob_per_year_asia.index, massmob_per_year_asia, label = \"Asia\")\n",
    "plt.plot(massmob_per_year_mena.index, massmob_per_year_mena, label = \"MENA\")\n",
    "plt.plot(massmob_per_year_africa.index, massmob_per_year_africa, label = \"Africa\")\n",
    "plt.legend()\n",
    "plt.title(\"Mass Mobilizations per Year per Region\", fontdict = {\"fontsize\" : 20});\n",
    "plt.ylabel(\"Number of mass mobilizations\");\n",
    "plt.xlabel(\"Year\");"
   ]
  },
  {
   "cell_type": "code",
   "execution_count": null,
   "metadata": {},
   "outputs": [
    {
     "data": {
      "text/plain": [
       "<AxesSubplot:xlabel='region', ylabel='count'>"
      ]
     },
     "execution_count": 493,
     "metadata": {},
     "output_type": "execute_result"
    },
    {
     "data": {
      "image/png": "[encoded data removed]",
      "text/plain": [
       "<Figure size 864x504 with 1 Axes>"
      ]
     },
     "metadata": {
      "needs_background": "light"
     },
     "output_type": "display_data"
    }
   ],
   "source": [
    "plt.figure(figsize = (12,7))\n",
    "sns.countplot(x = social_movements_df[\"region\"], hue = social_movements_df[\"protester_violence\"])"
   ]
  },
  {
   "cell_type": "code",
   "execution_count": null,
   "metadata": {},
   "outputs": [
    {
     "data": {
      "text/plain": [
       "<AxesSubplot:xlabel='region', ylabel='count'>"
      ]
     },
     "execution_count": 494,
     "metadata": {},
     "output_type": "execute_result"
    },
    {
     "data": {
      "image/png": "[encoded data removed]",
      "text/plain": [
       "<Figure size 864x504 with 1 Axes>"
      ]
     },
     "metadata": {
      "needs_background": "light"
     },
     "output_type": "display_data"
    }
   ],
   "source": [
    "plt.figure(figsize = (12,7))\n",
    "sns.countplot(x = social_movements_df[\"region\"], hue = social_movements_df[\"economical_demand\"])"
   ]
  },
  {
   "cell_type": "code",
   "execution_count": null,
   "metadata": {},
   "outputs": [
    {
     "data": {
      "text/plain": [
       "<AxesSubplot:xlabel='region', ylabel='count'>"
      ]
     },
     "execution_count": 495,
     "metadata": {},
     "output_type": "execute_result"
    },
    {
     "data": {
      "image/png": "[encoded data removed]",
      "text/plain": [
       "<Figure size 864x504 with 1 Axes>"
      ]
     },
     "metadata": {
      "needs_background": "light"
     },
     "output_type": "display_data"
    }
   ],
   "source": [
    "plt.figure(figsize = (12,7))\n",
    "sns.countplot(x = social_movements_df[\"region\"], hue = social_movements_df[\"response_use_force\"])"
   ]
  },
  {
   "cell_type": "code",
   "execution_count": null,
   "metadata": {},
   "outputs": [
    {
     "data": {
      "text/plain": [
       "region\n",
       "Africa             0.229686\n",
       "Asia               1.091814\n",
       "Central America    1.295455\n",
       "Europe             0.611693\n",
       "MENA               1.109649\n",
       "North America      1.676966\n",
       "Oceania            0.034483\n",
       "South America      2.967186\n",
       "Name: movement_duration, dtype: float64"
      ]
     },
     "execution_count": 496,
     "metadata": {},
     "output_type": "execute_result"
    }
   ],
   "source": [
    "social_movements_df.groupby(\"region\")[\"movement_duration\"].mean()"
   ]
  },
  {
   "cell_type": "code",
   "execution_count": null,
   "metadata": {},
   "outputs": [],
   "source": []
  },
  {
   "cell_type": "markdown",
   "metadata": {},
   "source": [
    "## 4. Machine Learning"
   ]
  },
  {
   "cell_type": "markdown",
   "metadata": {},
   "source": []
  },
  {
   "cell_type": "code",
   "execution_count": null,
   "metadata": {},
   "outputs": [],
   "source": []
  },
  {
   "cell_type": "code",
   "execution_count": null,
   "metadata": {},
   "outputs": [],
   "source": [
    "X_train, X_test, y_train, y_test = model_selection.train_test_split(\n",
    "    social_movements_df[[\"movement_duration\", \"year\", \"protester_violence\", \"economical_demand\"]], social_movements_df[\"response_use_force\"], test_size = 0.25, random_state = 0)\n"
   ]
  },
  {
   "cell_type": "code",
   "execution_count": null,
   "metadata": {},
   "outputs": [
    {
     "data": {
      "text/plain": [
       "LogisticRegression()"
      ]
     },
     "execution_count": 499,
     "metadata": {},
     "output_type": "execute_result"
    }
   ],
   "source": [
    "logistic = linear_model.LogisticRegression()\n",
    "\n",
    "logistic.fit(X_train, y_train)"
   ]
  },
  {
   "cell_type": "code",
   "execution_count": null,
   "metadata": {},
   "outputs": [
    {
     "data": {
      "text/plain": [
       "0.8152866242038217"
      ]
     },
     "execution_count": 500,
     "metadata": {},
     "output_type": "execute_result"
    }
   ],
   "source": [
    "logistic.score(X_test, y_test)"
   ]
  },
  {
   "cell_type": "code",
   "execution_count": null,
   "metadata": {},
   "outputs": [
    {
     "data": {
      "text/plain": [
       "<AxesSubplot:>"
      ]
     },
     "execution_count": 501,
     "metadata": {},
     "output_type": "execute_result"
    },
    {
     "data": {
      "image/png": "[encoded data removed]",
      "text/plain": [
       "<Figure size 648x648 with 2 Axes>"
      ]
     },
     "metadata": {
      "needs_background": "light"
     },
     "output_type": "display_data"
    }
   ],
   "source": [
    "predictions = logistic.predict(X_test)\n",
    "conf_matr = metrics.confusion_matrix(y_test, predictions)\n",
    "\n",
    "plt.figure(figsize = (9,9))\n",
    "sns.heatmap(conf_matr, annot = True, fmt = \"d\", linewidth = .5, square = True, cmap = \"Blues_r\")"
   ]
  },
  {
   "cell_type": "markdown",
   "metadata": {},
   "source": [
    "## 5. Conclusions"
   ]
  },
  {
   "cell_type": "markdown",
   "metadata": {},
   "source": []
  }
 ],
 "metadata": {
  "kernelspec": {
   "display_name": "Python 3",
   "language": "python",
   "name": "python3"
  },
  "language_info": {
   "codemirror_mode": {
    "name": "ipython",
    "version": 3
   },
   "file_extension": ".py",
   "mimetype": "text/x-python",
   "name": "python",
   "nbconvert_exporter": "python",
   "pygments_lexer": "ipython3",
   "version": "3.8.5"
  }
 },
 "nbformat": 4,
 "nbformat_minor": 4
}
